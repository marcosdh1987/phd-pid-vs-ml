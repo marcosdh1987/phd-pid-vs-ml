{
 "cells": [
  {
   "cell_type": "markdown",
   "id": "87a80a9f",
   "metadata": {},
   "source": [
    "\n",
    "# 📚 Pipeline PRISMA + PICO con LLM (Scopus + WoS)\n",
    "Este cuaderno te guía **paso a paso** para:\n",
    "1) Cargar tu CSV (resultados Scopus/WoS).  \n",
    "2) **Deduplicar** por DOI / Título normalizado.  \n",
    "3) Calificar **cada registro** con un **LLM** usando **PICO** (Include/Exclude/Maybe + puntajes).  \n",
    "4) Guardar resultados (CSV/Excel) y **filtrar al Top-10** más relevante para tu revisión.\n",
    "\n",
    "> Puedes usar **DRY_RUN** para probar sin gastar tokens: genera salidas simuladas y no llama al LLM.\n"
   ]
  },
  {
   "cell_type": "markdown",
   "id": "9a114e41",
   "metadata": {},
   "source": [
    "## 0) Requisitos"
   ]
  },
  {
   "cell_type": "code",
   "execution_count": null,
   "id": "337066f8",
   "metadata": {},
   "outputs": [],
   "source": [
    "\n",
    "# (Opcional) instala dependencias si hace falta en tu entorno\n",
    "# !pip install -q pandas openai python-dotenv xlsxwriter\n"
   ]
  },
  {
   "cell_type": "markdown",
   "id": "7581b10c",
   "metadata": {},
   "source": [
    "## 1) Configuración general (rutas y modo DRY_RUN)"
   ]
  },
  {
   "cell_type": "code",
   "execution_count": 43,
   "id": "3341ec24",
   "metadata": {},
   "outputs": [
    {
     "name": "stdout",
     "output_type": "stream",
     "text": [
      "INPUT_CSV: ../data/titles_result.csv\n",
      "OUT_CSV: ../data/scored_results.csv\n",
      "OUT_XLSX: ../data/scored_results.xlsx\n",
      "DRY_RUN: False\n"
     ]
    }
   ],
   "source": [
    "\n",
    "import os, re, time, json\n",
    "import pandas as pd\n",
    "\n",
    "# === Paths de entrada / salida ===\n",
    "INPUT_CSV = \"../data/titles_result.csv\"  # <-- Cambia aquí si tu archivo tiene otro nombre\n",
    "OUT_CSV   = \"../data/scored_results.csv\"\n",
    "OUT_XLSX  = \"../data/scored_results.xlsx\"\n",
    "\n",
    "# === Modo simulación (no llama al LLM, útil para probar sin costo) ===\n",
    "DRY_RUN = False  # <- pon True para simular (no requiere API key)\n",
    "\n",
    "print(f\"INPUT_CSV: {INPUT_CSV}\\nOUT_CSV: {OUT_CSV}\\nOUT_XLSX: {OUT_XLSX}\\nDRY_RUN: {DRY_RUN}\")\n"
   ]
  },
  {
   "cell_type": "markdown",
   "id": "7a78e439",
   "metadata": {},
   "source": [
    "## 2) Define tu PICO y pesos (editable)"
   ]
  },
  {
   "cell_type": "code",
   "execution_count": 44,
   "id": "913f485a",
   "metadata": {},
   "outputs": [
    {
     "data": {
      "text/plain": [
       "{'P': 'Industrial processes with valves (well testing, three-phase separation, refinery, and analogous systems).',\n",
       " 'I': 'ML-based control: neural networks (ANN/DL), reinforcement learning (RL), neuro-PID hybrids, agents/LLMs.',\n",
       " 'C': 'Traditional PID/PI controllers (baseline or reference).',\n",
       " 'O': 'Loop performance (overshoot, settling, IAE/ISE, RMS error), robustness, autonomy (less human intervention), PLC/SCADA feasibility.'}"
      ]
     },
     "execution_count": 44,
     "metadata": {},
     "output_type": "execute_result"
    }
   ],
   "source": [
    "# === Research Context ===\n",
    "RESEARCH_CONTEXT = {\n",
    "    \"main_question\": \"In industrial process valve control (P), do ML-based techniques (I) outperform traditional PID controllers (C) in loop performance, robustness, and autonomy (O)?\",\n",
    "    \"sub_questions\": [\n",
    "        \"When do they replace PID vs. assist it (hybrid approaches)?\",\n",
    "        \"What validation do they report (simulation, pilot, field)?\", \n",
    "        \"How 'operable' are they in PLC/SCADA environments?\"\n",
    "    ],\n",
    "    \"background\": \"In process industries, PID controllers have been the predominant solution for regulating variables due to their simplicity and robustness. However, their performance is limited in complex conditions: multivariable systems (e.g., well testing separators controlling multiple valves in the same process), strongly nonlinear conditions with noise, disturbances, or changing dynamics require frequent re-tuning and may exceed their optimal capabilities. Therefore, interest has grown in control techniques based on neural networks and machine learning, which promise to adapt better to these complexities than traditional PIDs.\"\n",
    "}\n",
    "\n",
    "# === PICO (in English for better LLM comprehension) ===\n",
    "PICO = {\n",
    "    \"P\": \"Industrial processes with valves (well testing, three-phase separation, refinery, and analogous systems).\",\n",
    "    \"I\": \"ML-based control: neural networks (ANN/DL), reinforcement learning (RL), neuro-PID hybrids, agents/LLMs.\",\n",
    "    \"C\": \"Traditional PID/PI controllers (baseline or reference).\",\n",
    "    \"O\": \"Loop performance (overshoot, settling, IAE/ISE, RMS error), robustness, autonomy (less human intervention), PLC/SCADA feasibility.\"\n",
    "}\n",
    "\n",
    "# === Pesos de la rúbrica (si cambias la escala, ajusta aquí) ===\n",
    "WEIGHTS = {\n",
    "    \"relevance_valve\": 3,           # 0-3\n",
    "    \"ml_strength\": 3,               # 0-3\n",
    "    \"vs_pid\": 2,                    # 0-2\n",
    "    \"validation\": 2,                # 0-2\n",
    "    \"industrial_similarity\": 2,     # 0-2\n",
    "    \"peer_review\": 1,               # 0-1\n",
    "    \"data_code\": 1                  # 0-1\n",
    "}\n",
    "\n",
    "PICO"
   ]
  },
  {
   "cell_type": "markdown",
   "id": "46c90ae8",
   "metadata": {},
   "source": [
    "## 3) Prompt del LLM (con placeholders PICO)"
   ]
  },
  {
   "cell_type": "code",
   "execution_count": 45,
   "id": "d4e7e368",
   "metadata": {},
   "outputs": [],
   "source": [
    "# Updated prompt for PRISMA systematic review using ChatPromptTemplate\n",
    "from langchain_core.prompts import ChatPromptTemplate\n",
    "\n",
    "prompt = ChatPromptTemplate.from_template(\n",
    "    \"\"\"You are assisting a PRISMA-style systematic review on industrial valve control systems.\n",
    "\n",
    "    RESEARCH CONTEXT:\n",
    "    Main Question: {main_question}\n",
    "    \n",
    "    Sub-questions: \n",
    "    1. {sub_question_1}\n",
    "    2. {sub_question_2} \n",
    "    3. {sub_question_3}\n",
    "    \n",
    "    Background: {background}\n",
    "\n",
    "    PICO Framework:\n",
    "    - P (Population/Problem): {P}\n",
    "    - I (Intervention): {I}\n",
    "    - C (Comparison): {C}\n",
    "    - O (Outcomes): {O}\n",
    "\n",
    "    EVALUATION RUBRIC (return integers only in the ranges indicated):\n",
    "    - relevance_valve: 0–3 (direct valve control with closed-loop metrics=3; tangential valve mention=1; no valve=0)\n",
    "    - ml_strength: 0–3 (RL/Deep NN/online learning=3; shallow/heuristic ML=1; no ML=0)\n",
    "    - vs_pid: 0–2 (explicit quantitative comparison vs PID=2; mentions PID as baseline=1; no PID comparison=0)\n",
    "    - validation: 0–2 (conceptual only=0; simulation studies=1; pilot/field experiments=2)\n",
    "    - industrial_similarity: 0–2 (well testing/separation/ICV/choke=2; related process industry=1; academic/other=0)\n",
    "    - peer_review: 0–1 (peer-reviewed journal/conference=1; preprint/thesis=0)\n",
    "    - data_code: 0–1 (datasets/code available or reproducibility mentioned=1; else=0)\n",
    "\n",
    "    RECORD TO EVALUATE:\n",
    "    - Title: {title}\n",
    "    - Source: {source_title}\n",
    "    - DOI: {doi}\n",
    "    - Keywords: {keywords}\n",
    "    - Abstract: {abstract}\n",
    "    \n",
    "    Rate this record's relevance to our research question and provide your assessment.\n",
    "    \"\"\"\n",
    ")"
   ]
  },
  {
   "cell_type": "code",
   "execution_count": 46,
   "id": "9abddda2",
   "metadata": {},
   "outputs": [],
   "source": [
    "from pydantic import BaseModel, Field\n",
    "from typing import Optional, Literal\n",
    "\n",
    "class Scores(BaseModel):\n",
    "    relevance_valve: int = Field(description=\"0-3: direct valve control with closed-loop metrics=3; tangential=0\")\n",
    "    ml_strength: int = Field(description=\"0-3: RL/Deep NN/online learning=3; shallow/heuristic ML=1; none=0\")\n",
    "    vs_pid: int = Field(description=\"0-2: explicit quantitative comparison vs PID=2; mentions PID as baseline=1; none=0\")\n",
    "    validation: int = Field(description=\"0-2: conceptual=0; simulation=1; pilot/field or bench experiments=2\")\n",
    "    industrial_similarity: int = Field(description=\"0-2: well testing/separation/ICV/choke=2; related process=1; other=0\")\n",
    "    peer_review: int = Field(description=\"0-1: 1 if peer-reviewed journal/conference; 0 otherwise/preprint\")\n",
    "    data_code: int = Field(description=\"0-1: 1 if datasets/code openly available or reproducibility noted; else 0\")\n",
    "\n",
    "class Notes(BaseModel):\n",
    "    ml_technique: str = Field(description=\"short string describing ML technique used\")\n",
    "    control_task: str = Field(description=\"level/pressure/flow/valve positioning/other\")\n",
    "    domain: str = Field(description=\"well testing/ICV/choke/separation/other\")\n",
    "    metrics: str = Field(description=\"e.g., overshoot/settling/IAE/ISE/error/robustness\")\n",
    "    doi_confirmed: bool = Field(description=\"true if DOI is valid and confirmed\")\n",
    "\n",
    "class ScoredRecord(BaseModel):\n",
    "    decision: Literal[\"Include\", \"Exclude\", \"Maybe\"] = Field(description=\"Include/Exclude/Maybe decision\")\n",
    "    reason: str = Field(description=\"one-line reason for decision\")\n",
    "    scores: Scores = Field(description=\"scoring rubric results\")\n",
    "    notes: Notes = Field(description=\"additional analysis notes\")"
   ]
  },
  {
   "cell_type": "code",
   "execution_count": 47,
   "id": "95ed94dc",
   "metadata": {},
   "outputs": [],
   "source": [
    "import sys\n",
    "sys.path.append(\"..\")  # Asegura que el directorio padre esté en el path\n",
    "from model.llm import ModelFactory\n",
    "\n",
    "model_core = \"gpt4omini\"\n",
    "\n",
    "factory = ModelFactory(model_name=model_core, temperature=0)\n",
    "llm = factory.create_model()\n",
    "\n",
    "structured_llm = llm.with_structured_output(ScoredRecord)\n",
    "\n",
    "chain = prompt | structured_llm"
   ]
  },
  {
   "cell_type": "code",
   "execution_count": 48,
   "id": "5175c71d",
   "metadata": {},
   "outputs": [
    {
     "name": "stdout",
     "output_type": "stream",
     "text": [
      "Testing enhanced chain with research context...\n",
      "Title: Reinforcement learning for control of valves\n",
      "DOI: 10.1016/j.mlwa.2021.100030\n",
      "Research Question: In industrial process valve control (P), do ML-based techniques (I) outperform traditional PID controllers (C) in loop performance, robustness, and autonomy (O)?\n",
      "\n",
      "Calling LLM...\n"
     ]
    },
    {
     "name": "stderr",
     "output_type": "stream",
     "text": [
      "2025-08-12 05:15:09,265 - _client - HTTP Request: POST https://api.openai.com/v1/chat/completions \"HTTP/1.1 200 OK\"\n"
     ]
    },
    {
     "name": "stdout",
     "output_type": "stream",
     "text": [
      "\n",
      "Results:\n",
      "Decision: Include\n",
      "Reason: The study focuses on reinforcement learning for valve control, directly addressing the research question.\n",
      "Scores: relevance_valve=3 ml_strength=3 vs_pid=2 validation=1 industrial_similarity=2 peer_review=1 data_code=1\n",
      "Notes: ml_technique='Reinforcement Learning' control_task='Valve control' domain='Industrial processes' metrics='Loop performance, robustness, autonomy' doi_confirmed=True\n"
     ]
    }
   ],
   "source": [
    "# Test con datos reales del CSV y nuevo contexto de investigación\n",
    "inputs = {\n",
    "    # Research context\n",
    "    \"main_question\": RESEARCH_CONTEXT[\"main_question\"],\n",
    "    \"sub_question_1\": RESEARCH_CONTEXT[\"sub_questions\"][0],\n",
    "    \"sub_question_2\": RESEARCH_CONTEXT[\"sub_questions\"][1], \n",
    "    \"sub_question_3\": RESEARCH_CONTEXT[\"sub_questions\"][2],\n",
    "    \"background\": RESEARCH_CONTEXT[\"background\"],\n",
    "    # PICO framework  \n",
    "    \"P\": PICO[\"P\"],\n",
    "    \"I\": PICO[\"I\"],\n",
    "    \"C\": PICO[\"C\"],\n",
    "    \"O\": PICO[\"O\"],\n",
    "    # Record data\n",
    "    \"title\": \"Reinforcement learning for control of valves\",\n",
    "    \"source_title\": \"Machine Learning with Applications\",\n",
    "    \"doi\": \"10.1016/j.mlwa.2021.100030\",\n",
    "    \"keywords\": \"\",  # No keywords in this record\n",
    "    \"abstract\": \"\"   # No abstract available in CSV\n",
    "}\n",
    "\n",
    "print(\"Testing enhanced chain with research context...\")\n",
    "print(f\"Title: {inputs['title']}\")\n",
    "print(f\"DOI: {inputs['doi']}\")\n",
    "print(f\"Research Question: {inputs['main_question']}\")\n",
    "print(\"\\nCalling LLM...\")\n",
    "\n",
    "results = chain.invoke(inputs)\n",
    "print(\"\\nResults:\")\n",
    "print(f\"Decision: {results.decision}\")\n",
    "print(f\"Reason: {results.reason}\")\n",
    "print(f\"Scores: {results.scores}\")\n",
    "print(f\"Notes: {results.notes}\")"
   ]
  },
  {
   "cell_type": "markdown",
   "id": "7ba311a0",
   "metadata": {},
   "source": [
    "## 5) Funciones auxiliares (dedup, normalización)"
   ]
  },
  {
   "cell_type": "code",
   "execution_count": 49,
   "id": "03474195",
   "metadata": {},
   "outputs": [],
   "source": [
    "\n",
    "def normalize_title(t: str) -> str:\n",
    "    if not isinstance(t, str):\n",
    "        return \"\"\n",
    "    t = t.lower().strip()\n",
    "    t = re.sub(r\"\\s+\", \" \", t)\n",
    "    t = re.sub(r\"[^\\w\\s]\", \"\", t)\n",
    "    return t\n",
    "\n",
    "def is_peer_reviewed(source_title: str) -> int:\n",
    "    s = (source_title or \"\").lower()\n",
    "    if any(k in s for k in [\"journal\", \"transactions\", \"proceedings\", \"conference\", \"letters\", \"acta\", \"control\", \"engineering\", \"ifac\", \"ieee\", \"elsevier\", \"springer\", \"wiley\", \"mdpi\", \"acs\"]):\n",
    "        return 1\n",
    "    return 0\n",
    "\n",
    "def deduplicate(df: pd.DataFrame) -> pd.DataFrame:\n",
    "    df = df.copy()\n",
    "    for c in [\"Title\",\"Source title\",\"DOI\",\"Abstract\",\"Author Keywords\",\"Document Type\",\"Publication Year\",\"source\"]:\n",
    "        if c not in df.columns:\n",
    "            df[c] = None\n",
    "    df[\"title_norm\"] = df[\"Title\"].apply(normalize_title)\n",
    "    df[\"_doi_norm\"] = df[\"DOI\"].astype(str).str.strip().str.lower()\n",
    "    df[\"_peer\"] = df[\"Source title\"].apply(is_peer_reviewed)\n",
    "\n",
    "    df = df.sort_values([\"_doi_norm\",\"_peer\"], ascending=[True, False])\n",
    "    df = df.drop_duplicates(subset=[\"_doi_norm\",\"title_norm\"], keep=\"first\")\n",
    "\n",
    "    df = df.sort_values([\"title_norm\",\"_peer\"], ascending=[True, False])\n",
    "    df = df.drop_duplicates(subset=[\"title_norm\"], keep=\"first\")\n",
    "\n",
    "    return df.drop(columns=[\"_peer\"])\n"
   ]
  },
  {
   "cell_type": "code",
   "execution_count": 50,
   "id": "a1714f3d",
   "metadata": {},
   "outputs": [],
   "source": [
    "def score_with_llm(df: pd.DataFrame, sleep_between_calls: float = 0.8) -> pd.DataFrame:\n",
    "    \"\"\"\n",
    "    Califica cada registro del DataFrame usando la chain de LangChain con structured output.\n",
    "    \"\"\"\n",
    "    rows = []\n",
    "    \n",
    "    print(f\"Procesando {len(df)} registros...\")\n",
    "    \n",
    "    for i, r in df.iterrows():\n",
    "        print(f\"Procesando registro {i+1}/{len(df)}: {r.get('Title', 'Sin título')[:50]}...\")\n",
    "        \n",
    "        # Preparar input para la chain con contexto de investigación\n",
    "        inputs = {\n",
    "            # Research context\n",
    "            \"main_question\": RESEARCH_CONTEXT[\"main_question\"],\n",
    "            \"sub_question_1\": RESEARCH_CONTEXT[\"sub_questions\"][0],\n",
    "            \"sub_question_2\": RESEARCH_CONTEXT[\"sub_questions\"][1],\n",
    "            \"sub_question_3\": RESEARCH_CONTEXT[\"sub_questions\"][2],\n",
    "            \"background\": RESEARCH_CONTEXT[\"background\"],\n",
    "            # PICO framework\n",
    "            \"P\": PICO[\"P\"],\n",
    "            \"I\": PICO[\"I\"], \n",
    "            \"C\": PICO[\"C\"],\n",
    "            \"O\": PICO[\"O\"],\n",
    "            # Record data\n",
    "            \"title\": str(r.get(\"Title\", \"\")),\n",
    "            \"source_title\": str(r.get(\"Source title\", \"\")),\n",
    "            \"doi\": str(r.get(\"DOI\", \"\")),\n",
    "            \"keywords\": str(r.get(\"Author Keywords\", \"\")),\n",
    "            \"abstract\": str(r.get(\"Abstract\", \"\")) if \"Abstract\" in df.columns else \"\"\n",
    "        }\n",
    "        \n",
    "        try:\n",
    "            # Llamar a la chain\n",
    "            result = chain.invoke(inputs)\n",
    "            \n",
    "            # Calcular score total basado en WEIGHTS\n",
    "            total_score = (\n",
    "                result.scores.relevance_valve * WEIGHTS[\"relevance_valve\"] +\n",
    "                result.scores.ml_strength * WEIGHTS[\"ml_strength\"] +\n",
    "                result.scores.vs_pid * WEIGHTS[\"vs_pid\"] +\n",
    "                result.scores.validation * WEIGHTS[\"validation\"] +\n",
    "                result.scores.industrial_similarity * WEIGHTS[\"industrial_similarity\"] +\n",
    "                result.scores.peer_review * WEIGHTS[\"peer_review\"] +\n",
    "                result.scores.data_code * WEIGHTS[\"data_code\"]\n",
    "            )\n",
    "            \n",
    "            # Crear registro de salida\n",
    "            out = {\n",
    "                \"llm_decision\": result.decision,\n",
    "                \"llm_reason\": result.reason.strip(),\n",
    "                \"score_relevance_valve\": result.scores.relevance_valve,\n",
    "                \"score_ml_strength\": result.scores.ml_strength,\n",
    "                \"score_vs_pid\": result.scores.vs_pid,\n",
    "                \"score_validation\": result.scores.validation,\n",
    "                \"score_industrial_similarity\": result.scores.industrial_similarity,\n",
    "                \"score_peer_review\": result.scores.peer_review,\n",
    "                \"score_data_code\": result.scores.data_code,\n",
    "                \"score_overall\": total_score,\n",
    "                \"ml_technique\": result.notes.ml_technique,\n",
    "                \"control_task\": result.notes.control_task,\n",
    "                \"domain\": result.notes.domain,\n",
    "                \"metrics\": result.notes.metrics,\n",
    "                \"doi_confirmed\": result.notes.doi_confirmed\n",
    "            }\n",
    "            \n",
    "        except Exception as e:\n",
    "            print(f\"Error procesando registro {i+1}: {e}\")\n",
    "            # Crear registro de error\n",
    "            out = {\n",
    "                \"llm_decision\": \"Exclude\",\n",
    "                \"llm_reason\": f\"Error de procesamiento: {str(e)}\",\n",
    "                \"score_relevance_valve\": 0,\n",
    "                \"score_ml_strength\": 0,\n",
    "                \"score_vs_pid\": 0,\n",
    "                \"score_validation\": 0,\n",
    "                \"score_industrial_similarity\": 0,\n",
    "                \"score_peer_review\": 0,\n",
    "                \"score_data_code\": 0,\n",
    "                \"score_overall\": 0,\n",
    "                \"ml_technique\": \"\",\n",
    "                \"control_task\": \"\",\n",
    "                \"domain\": \"\",\n",
    "                \"metrics\": \"\",\n",
    "                \"doi_confirmed\": False\n",
    "            }\n",
    "        \n",
    "        rows.append(out)\n",
    "        time.sleep(sleep_between_calls)\n",
    "    \n",
    "    # Combinar DataFrame original con nuevas columnas\n",
    "    scored_df = pd.DataFrame(rows, index=df.index)\n",
    "    result_df = pd.concat([df.reset_index(drop=True), scored_df.reset_index(drop=True)], axis=1)\n",
    "    \n",
    "    print(\"✅ Calificación completada!\")\n",
    "    return result_df"
   ]
  },
  {
   "cell_type": "code",
   "execution_count": 51,
   "id": "33ff5ecd",
   "metadata": {},
   "outputs": [],
   "source": [
    "def shortlist_top10(scored: pd.DataFrame) -> pd.DataFrame:\n",
    "    \"\"\"\n",
    "    Filtra y ordena el DataFrame para obtener el top-10 más relevante.\n",
    "    Prioriza papers con control de válvulas, scores altos, y decisiones Include/Maybe.\n",
    "    \"\"\"\n",
    "    # Filtros de relevancia\n",
    "    has_valve_control = (\n",
    "        scored[\"Title\"].str.contains(r\"valv\", case=False, na=False) & \n",
    "        scored[\"Title\"].str.contains(r\"control\", case=False, na=False)\n",
    "    )\n",
    "    \n",
    "    strong_scores = scored[\"score_overall\"] >= 7\n",
    "    include_like = scored[\"llm_decision\"].isin([\"Include\", \"Maybe\"])\n",
    "    \n",
    "    # Aplicar filtros\n",
    "    prelim = scored[(has_valve_control | strong_scores) & include_like].copy()\n",
    "    \n",
    "    if len(prelim) == 0:\n",
    "        print(\"⚠️  No se encontraron registros que cumplan los criterios. Mostrando top 10 por score general.\")\n",
    "        prelim = scored.copy()\n",
    "    \n",
    "    # Ordenar por prioridad: vs_pid > validation > score_overall\n",
    "    prelim = prelim.sort_values(\n",
    "        by=[\"score_vs_pid\", \"score_validation\", \"score_overall\"],\n",
    "        ascending=[False, False, False]\n",
    "    )\n",
    "    \n",
    "    top10 = prelim.head(10)\n",
    "    print(f\"✅ Top-10 seleccionado de {len(prelim)} candidatos relevantes.\")\n",
    "    \n",
    "    return top10"
   ]
  },
  {
   "cell_type": "markdown",
   "id": "2a91b8df",
   "metadata": {},
   "source": [
    "## 8) Ejecutar: cargar → deduplicar → calificar (LLM) → guardar"
   ]
  },
  {
   "cell_type": "code",
   "execution_count": 52,
   "id": "32eca713",
   "metadata": {},
   "outputs": [
    {
     "name": "stdout",
     "output_type": "stream",
     "text": [
      "🔄 Cargando datos...\n",
      "📄 Filas cargadas: 79\n",
      "\n",
      "🔄 Deduplicando registros...\n",
      "📄 Tras deduplicar: 57 registros únicos\n",
      "\n",
      "🔄 Calificando con LLM...\n",
      "Procesando 57 registros...\n",
      "Procesando registro 51/57: A Literature Review of the Positive Displacement C...\n"
     ]
    },
    {
     "name": "stderr",
     "output_type": "stream",
     "text": [
      "2025-08-12 05:15:32,696 - _client - HTTP Request: POST https://api.openai.com/v1/chat/completions \"HTTP/1.1 200 OK\"\n"
     ]
    },
    {
     "name": "stdout",
     "output_type": "stream",
     "text": [
      "Procesando registro 58/57: A Method for Detecting Key Points of Transferring ...\n"
     ]
    },
    {
     "name": "stderr",
     "output_type": "stream",
     "text": [
      "2025-08-12 05:15:36,073 - _client - HTTP Request: POST https://api.openai.com/v1/chat/completions \"HTTP/1.1 200 OK\"\n"
     ]
    },
    {
     "name": "stdout",
     "output_type": "stream",
     "text": [
      "Procesando registro 57/57: A novel modelling of glue allowance prediction for...\n"
     ]
    },
    {
     "name": "stderr",
     "output_type": "stream",
     "text": [
      "2025-08-12 05:15:39,389 - _client - HTTP Request: POST https://api.openai.com/v1/chat/completions \"HTTP/1.1 200 OK\"\n"
     ]
    },
    {
     "name": "stdout",
     "output_type": "stream",
     "text": [
      "Procesando registro 1/57: A one-class support vector machine for detecting v...\n"
     ]
    },
    {
     "name": "stderr",
     "output_type": "stream",
     "text": [
      "2025-08-12 05:15:43,521 - _client - HTTP Request: POST https://api.openai.com/v1/chat/completions \"HTTP/1.1 200 OK\"\n"
     ]
    },
    {
     "name": "stdout",
     "output_type": "stream",
     "text": [
      "Procesando registro 64/57: A Performance Prediction Method for a High-Precisi...\n"
     ]
    },
    {
     "name": "stderr",
     "output_type": "stream",
     "text": [
      "2025-08-12 05:15:47,017 - _client - HTTP Request: POST https://api.openai.com/v1/chat/completions \"HTTP/1.1 200 OK\"\n"
     ]
    },
    {
     "name": "stdout",
     "output_type": "stream",
     "text": [
      "Procesando registro 61/57: A systematic approach for data generation for inte...\n"
     ]
    },
    {
     "name": "stderr",
     "output_type": "stream",
     "text": [
      "2025-08-12 05:15:50,686 - _client - HTTP Request: POST https://api.openai.com/v1/chat/completions \"HTTP/1.1 200 OK\"\n"
     ]
    },
    {
     "name": "stdout",
     "output_type": "stream",
     "text": [
      "Procesando registro 15/57: Advanced Study: Improving the Quality of Cooling W...\n"
     ]
    },
    {
     "name": "stderr",
     "output_type": "stream",
     "text": [
      "2025-08-12 05:15:54,702 - _client - HTTP Request: POST https://api.openai.com/v1/chat/completions \"HTTP/1.1 200 OK\"\n"
     ]
    },
    {
     "name": "stdout",
     "output_type": "stream",
     "text": [
      "Procesando registro 24/57: An approach for stiction compensation in industria...\n"
     ]
    },
    {
     "name": "stderr",
     "output_type": "stream",
     "text": [
      "2025-08-12 05:15:57,915 - _client - HTTP Request: POST https://api.openai.com/v1/chat/completions \"HTTP/1.1 200 OK\"\n"
     ]
    },
    {
     "name": "stdout",
     "output_type": "stream",
     "text": [
      "Procesando registro 71/57: Anomaly Segmentation Based on Depth Image for Qual...\n"
     ]
    },
    {
     "name": "stderr",
     "output_type": "stream",
     "text": [
      "2025-08-12 05:16:01,693 - _client - HTTP Request: POST https://api.openai.com/v1/chat/completions \"HTTP/1.1 200 OK\"\n"
     ]
    },
    {
     "name": "stdout",
     "output_type": "stream",
     "text": [
      "Procesando registro 7/57: APAH: An autonomous IoT driven real-time monitorin...\n"
     ]
    },
    {
     "name": "stderr",
     "output_type": "stream",
     "text": [
      "2025-08-12 05:16:05,415 - _client - HTTP Request: POST https://api.openai.com/v1/chat/completions \"HTTP/1.1 200 OK\"\n"
     ]
    },
    {
     "name": "stdout",
     "output_type": "stream",
     "text": [
      "Procesando registro 32/57: Applicant hierarchical fuzzy controller for concen...\n"
     ]
    },
    {
     "name": "stderr",
     "output_type": "stream",
     "text": [
      "2025-08-12 05:16:08,294 - _client - HTTP Request: POST https://api.openai.com/v1/chat/completions \"HTTP/1.1 200 OK\"\n"
     ]
    },
    {
     "name": "stdout",
     "output_type": "stream",
     "text": [
      "Procesando registro 2/57: Automatic oscillations detection and classificatio...\n"
     ]
    },
    {
     "name": "stderr",
     "output_type": "stream",
     "text": [
      "2025-08-12 05:16:12,029 - _client - HTTP Request: POST https://api.openai.com/v1/chat/completions \"HTTP/1.1 200 OK\"\n"
     ]
    },
    {
     "name": "stdout",
     "output_type": "stream",
     "text": [
      "Procesando registro 75/57: Bridging the performance gap between passive and a...\n"
     ]
    },
    {
     "name": "stderr",
     "output_type": "stream",
     "text": [
      "2025-08-12 05:16:15,882 - _client - HTTP Request: POST https://api.openai.com/v1/chat/completions \"HTTP/1.1 200 OK\"\n"
     ]
    },
    {
     "name": "stdout",
     "output_type": "stream",
     "text": [
      "Procesando registro 40/57: Communicating the Automatic Control Principles in ...\n"
     ]
    },
    {
     "name": "stderr",
     "output_type": "stream",
     "text": [
      "2025-08-12 05:16:18,990 - _client - HTTP Request: POST https://api.openai.com/v1/chat/completions \"HTTP/1.1 200 OK\"\n"
     ]
    },
    {
     "name": "stdout",
     "output_type": "stream",
     "text": [
      "Procesando registro 11/57: Comparative Analysis of PID and Robust IMC Control...\n"
     ]
    },
    {
     "name": "stderr",
     "output_type": "stream",
     "text": [
      "2025-08-12 05:16:23,187 - _client - HTTP Request: POST https://api.openai.com/v1/chat/completions \"HTTP/1.1 200 OK\"\n"
     ]
    },
    {
     "name": "stdout",
     "output_type": "stream",
     "text": [
      "Procesando registro 8/57: Complex Dynamics and Intelligent Control: Advances...\n"
     ]
    },
    {
     "name": "stderr",
     "output_type": "stream",
     "text": [
      "2025-08-12 05:16:26,351 - _client - HTTP Request: POST https://api.openai.com/v1/chat/completions \"HTTP/1.1 200 OK\"\n"
     ]
    },
    {
     "name": "stdout",
     "output_type": "stream",
     "text": [
      "Procesando registro 3/57: Control valve stiction detection using Markov tran...\n"
     ]
    },
    {
     "name": "stderr",
     "output_type": "stream",
     "text": [
      "2025-08-12 05:16:30,193 - _client - HTTP Request: POST https://api.openai.com/v1/chat/completions \"HTTP/1.1 200 OK\"\n"
     ]
    },
    {
     "name": "stdout",
     "output_type": "stream",
     "text": [
      "Procesando registro 20/57: Design and Realization of Fully Automatic Pump Per...\n"
     ]
    },
    {
     "name": "stderr",
     "output_type": "stream",
     "text": [
      "2025-08-12 05:16:33,654 - _client - HTTP Request: POST https://api.openai.com/v1/chat/completions \"HTTP/1.1 200 OK\"\n"
     ]
    },
    {
     "name": "stdout",
     "output_type": "stream",
     "text": [
      "Procesando registro 25/57: Design of FOPID Controller for Pneumatic Control V...\n"
     ]
    },
    {
     "name": "stderr",
     "output_type": "stream",
     "text": [
      "2025-08-12 05:16:36,836 - _client - HTTP Request: POST https://api.openai.com/v1/chat/completions \"HTTP/1.1 200 OK\"\n"
     ]
    },
    {
     "name": "stdout",
     "output_type": "stream",
     "text": [
      "Procesando registro 66/57: Detecting Semantic Attack in SCADA System: A Behav...\n"
     ]
    },
    {
     "name": "stderr",
     "output_type": "stream",
     "text": [
      "2025-08-12 05:16:41,134 - _client - HTTP Request: POST https://api.openai.com/v1/chat/completions \"HTTP/1.1 200 OK\"\n"
     ]
    },
    {
     "name": "stdout",
     "output_type": "stream",
     "text": [
      "Procesando registro 17/57: Developing a novel Gaussian process model predicti...\n"
     ]
    },
    {
     "name": "stderr",
     "output_type": "stream",
     "text": [
      "2025-08-12 05:16:45,522 - _client - HTTP Request: POST https://api.openai.com/v1/chat/completions \"HTTP/1.1 200 OK\"\n"
     ]
    },
    {
     "name": "stdout",
     "output_type": "stream",
     "text": [
      "Procesando registro 39/57: Development of Pneumatic Force-Controlled Actuator...\n"
     ]
    },
    {
     "name": "stderr",
     "output_type": "stream",
     "text": [
      "2025-08-12 05:16:48,277 - _client - HTTP Request: POST https://api.openai.com/v1/chat/completions \"HTTP/1.1 200 OK\"\n"
     ]
    },
    {
     "name": "stdout",
     "output_type": "stream",
     "text": [
      "Procesando registro 21/57: Development of rotary straw burying and returning ...\n"
     ]
    },
    {
     "name": "stderr",
     "output_type": "stream",
     "text": [
      "2025-08-12 05:16:51,850 - _client - HTTP Request: POST https://api.openai.com/v1/chat/completions \"HTTP/1.1 200 OK\"\n"
     ]
    },
    {
     "name": "stdout",
     "output_type": "stream",
     "text": [
      "Procesando registro 68/57: Diagnosis of Pneumatic Systems on Basis of Time Se...\n"
     ]
    },
    {
     "name": "stderr",
     "output_type": "stream",
     "text": [
      "2025-08-12 05:16:54,737 - _client - HTTP Request: POST https://api.openai.com/v1/chat/completions \"HTTP/1.1 200 OK\"\n"
     ]
    },
    {
     "name": "stdout",
     "output_type": "stream",
     "text": [
      "Procesando registro 65/57: Dynamic Prediction of Performance Degradation Char...\n"
     ]
    },
    {
     "name": "stderr",
     "output_type": "stream",
     "text": [
      "2025-08-12 05:16:58,630 - _client - HTTP Request: POST https://api.openai.com/v1/chat/completions \"HTTP/1.1 200 OK\"\n"
     ]
    },
    {
     "name": "stdout",
     "output_type": "stream",
     "text": [
      "Procesando registro 4/57: Enhanced classification of hydraulic testing of di...\n"
     ]
    },
    {
     "name": "stderr",
     "output_type": "stream",
     "text": [
      "2025-08-12 05:17:03,119 - _client - HTTP Request: POST https://api.openai.com/v1/chat/completions \"HTTP/1.1 200 OK\"\n"
     ]
    },
    {
     "name": "stdout",
     "output_type": "stream",
     "text": [
      "Procesando registro 59/57: Enhancing metal additive manufacturing training wi...\n"
     ]
    },
    {
     "name": "stderr",
     "output_type": "stream",
     "text": [
      "2025-08-12 05:17:06,611 - _client - HTTP Request: POST https://api.openai.com/v1/chat/completions \"HTTP/1.1 200 OK\"\n"
     ]
    },
    {
     "name": "stdout",
     "output_type": "stream",
     "text": [
      "Procesando registro 34/57: Event-driven enabled regression aided multi-loop c...\n"
     ]
    },
    {
     "name": "stderr",
     "output_type": "stream",
     "text": [
      "2025-08-12 05:17:10,679 - _client - HTTP Request: POST https://api.openai.com/v1/chat/completions \"HTTP/1.1 200 OK\"\n"
     ]
    },
    {
     "name": "stdout",
     "output_type": "stream",
     "text": [
      "Procesando registro 46/57: Experimental analysis of the performance of the ai...\n"
     ]
    },
    {
     "name": "stderr",
     "output_type": "stream",
     "text": [
      "2025-08-12 05:17:13,635 - _client - HTTP Request: POST https://api.openai.com/v1/chat/completions \"HTTP/1.1 200 OK\"\n"
     ]
    },
    {
     "name": "stdout",
     "output_type": "stream",
     "text": [
      "Procesando registro 74/57: Explainable attention-based fused convolutional ne...\n"
     ]
    },
    {
     "name": "stderr",
     "output_type": "stream",
     "text": [
      "2025-08-12 05:17:16,707 - _client - HTTP Request: POST https://api.openai.com/v1/chat/completions \"HTTP/1.1 200 OK\"\n"
     ]
    },
    {
     "name": "stdout",
     "output_type": "stream",
     "text": [
      "Procesando registro 23/57: Exploring the Application of Large Language Models...\n"
     ]
    },
    {
     "name": "stderr",
     "output_type": "stream",
     "text": [
      "2025-08-12 05:17:21,169 - _client - HTTP Request: POST https://api.openai.com/v1/chat/completions \"HTTP/1.1 200 OK\"\n"
     ]
    },
    {
     "name": "stdout",
     "output_type": "stream",
     "text": [
      "Procesando registro 5/57: Fault Detection of Flow Control Valves Using Onlin...\n"
     ]
    },
    {
     "name": "stderr",
     "output_type": "stream",
     "text": [
      "2025-08-12 05:17:24,932 - _client - HTTP Request: POST https://api.openai.com/v1/chat/completions \"HTTP/1.1 200 OK\"\n"
     ]
    },
    {
     "name": "stdout",
     "output_type": "stream",
     "text": [
      "Procesando registro 22/57: Implementation of ANN-Based Auto-Adjustable for a ...\n"
     ]
    },
    {
     "name": "stderr",
     "output_type": "stream",
     "text": [
      "2025-08-12 05:17:29,436 - _client - HTTP Request: POST https://api.openai.com/v1/chat/completions \"HTTP/1.1 200 OK\"\n"
     ]
    },
    {
     "name": "stdout",
     "output_type": "stream",
     "text": [
      "Procesando registro 6/57: Implementing and evaluating the quality 4.0 PMQ fr...\n"
     ]
    },
    {
     "name": "stderr",
     "output_type": "stream",
     "text": [
      "2025-08-12 05:17:32,820 - _client - HTTP Request: POST https://api.openai.com/v1/chat/completions \"HTTP/1.1 200 OK\"\n"
     ]
    },
    {
     "name": "stdout",
     "output_type": "stream",
     "text": [
      "Procesando registro 31/57: Industrial Implementation of State Dependent Param...\n"
     ]
    },
    {
     "name": "stderr",
     "output_type": "stream",
     "text": [
      "2025-08-12 05:17:36,246 - _client - HTTP Request: POST https://api.openai.com/v1/chat/completions \"HTTP/1.1 200 OK\"\n"
     ]
    },
    {
     "name": "stdout",
     "output_type": "stream",
     "text": [
      "Procesando registro 9/57: Intelligent Control Valve Stiction Diagnosis Appro...\n"
     ]
    },
    {
     "name": "stderr",
     "output_type": "stream",
     "text": [
      "2025-08-12 05:17:39,406 - _client - HTTP Request: POST https://api.openai.com/v1/chat/completions \"HTTP/1.1 200 OK\"\n"
     ]
    },
    {
     "name": "stdout",
     "output_type": "stream",
     "text": [
      "Procesando registro 45/57: Internal Model Control for Onboard Methanol-Reform...\n"
     ]
    },
    {
     "name": "stderr",
     "output_type": "stream",
     "text": [
      "2025-08-12 05:17:43,472 - _client - HTTP Request: POST https://api.openai.com/v1/chat/completions \"HTTP/1.1 200 OK\"\n"
     ]
    },
    {
     "name": "stdout",
     "output_type": "stream",
     "text": [
      "Procesando registro 19/57: Modeling, optimization and control of a ceramic tu...\n"
     ]
    },
    {
     "name": "stderr",
     "output_type": "stream",
     "text": [
      "2025-08-12 05:17:46,862 - _client - HTTP Request: POST https://api.openai.com/v1/chat/completions \"HTTP/1.1 200 OK\"\n"
     ]
    },
    {
     "name": "stdout",
     "output_type": "stream",
     "text": [
      "Procesando registro 56/57: Neuro-Fuzzy System for Compensating Slow Disturban...\n"
     ]
    },
    {
     "name": "stderr",
     "output_type": "stream",
     "text": [
      "2025-08-12 05:17:50,709 - _client - HTTP Request: POST https://api.openai.com/v1/chat/completions \"HTTP/1.1 200 OK\"\n"
     ]
    },
    {
     "name": "stdout",
     "output_type": "stream",
     "text": [
      "Procesando registro 14/57: NEW MCA GENERATOR...\n"
     ]
    },
    {
     "name": "stderr",
     "output_type": "stream",
     "text": [
      "2025-08-12 05:17:54,204 - _client - HTTP Request: POST https://api.openai.com/v1/chat/completions \"HTTP/1.1 200 OK\"\n"
     ]
    },
    {
     "name": "stdout",
     "output_type": "stream",
     "text": [
      "Procesando registro 16/57: Nonlinear optimal control for robotic exoskeletons...\n"
     ]
    },
    {
     "name": "stderr",
     "output_type": "stream",
     "text": [
      "2025-08-12 05:17:57,872 - _client - HTTP Request: POST https://api.openai.com/v1/chat/completions \"HTTP/1.1 200 OK\"\n"
     ]
    },
    {
     "name": "stdout",
     "output_type": "stream",
     "text": [
      "Procesando registro 13/57: Parameters’ Optimization in Compressed Air Pressur...\n"
     ]
    },
    {
     "name": "stderr",
     "output_type": "stream",
     "text": [
      "2025-08-12 05:18:02,103 - _client - HTTP Request: POST https://api.openai.com/v1/chat/completions \"HTTP/1.1 200 OK\"\n"
     ]
    },
    {
     "name": "stdout",
     "output_type": "stream",
     "text": [
      "Procesando registro 38/57: Performance Comparison of Control Strategies for P...\n"
     ]
    },
    {
     "name": "stderr",
     "output_type": "stream",
     "text": [
      "2025-08-12 05:18:05,280 - _client - HTTP Request: POST https://api.openai.com/v1/chat/completions \"HTTP/1.1 200 OK\"\n"
     ]
    },
    {
     "name": "stdout",
     "output_type": "stream",
     "text": [
      "Procesando registro 60/57: Precise Burden Charging Operation During Iron-Maki...\n"
     ]
    },
    {
     "name": "stderr",
     "output_type": "stream",
     "text": [
      "2025-08-12 05:18:09,081 - _client - HTTP Request: POST https://api.openai.com/v1/chat/completions \"HTTP/1.1 200 OK\"\n"
     ]
    },
    {
     "name": "stdout",
     "output_type": "stream",
     "text": [
      "Procesando registro 43/57: Predictive control scheme by integrating event-tri...\n"
     ]
    },
    {
     "name": "stderr",
     "output_type": "stream",
     "text": [
      "2025-08-12 05:18:12,597 - _client - HTTP Request: POST https://api.openai.com/v1/chat/completions \"HTTP/1.1 200 OK\"\n"
     ]
    },
    {
     "name": "stdout",
     "output_type": "stream",
     "text": [
      "Procesando registro 69/57: Real-Time Pipe and Valve Characterisation and Mapp...\n"
     ]
    },
    {
     "name": "stderr",
     "output_type": "stream",
     "text": [
      "2025-08-12 05:18:16,250 - _client - HTTP Request: POST https://api.openai.com/v1/chat/completions \"HTTP/1.1 200 OK\"\n"
     ]
    },
    {
     "name": "stdout",
     "output_type": "stream",
     "text": [
      "Procesando registro 37/57: Reinforcement learning for control of valves...\n"
     ]
    },
    {
     "name": "stderr",
     "output_type": "stream",
     "text": [
      "2025-08-12 05:18:20,060 - _client - HTTP Request: POST https://api.openai.com/v1/chat/completions \"HTTP/1.1 200 OK\"\n"
     ]
    },
    {
     "name": "stdout",
     "output_type": "stream",
     "text": [
      "Procesando registro 41/57: Research of Pneumatic Polishing Force Control Syst...\n"
     ]
    },
    {
     "name": "stderr",
     "output_type": "stream",
     "text": [
      "2025-08-12 05:18:23,875 - _client - HTTP Request: POST https://api.openai.com/v1/chat/completions \"HTTP/1.1 200 OK\"\n"
     ]
    },
    {
     "name": "stdout",
     "output_type": "stream",
     "text": [
      "Procesando registro 55/57: Residual Life Prediction of Pneumatic Control Valv...\n"
     ]
    },
    {
     "name": "stderr",
     "output_type": "stream",
     "text": [
      "2025-08-12 05:18:27,413 - _client - HTTP Request: POST https://api.openai.com/v1/chat/completions \"HTTP/1.1 200 OK\"\n"
     ]
    },
    {
     "name": "stdout",
     "output_type": "stream",
     "text": [
      "Procesando registro 72/57: Revolutionizing Tire Quality Control: AI's Impact ...\n"
     ]
    },
    {
     "name": "stderr",
     "output_type": "stream",
     "text": [
      "2025-08-12 05:18:31,736 - _client - HTTP Request: POST https://api.openai.com/v1/chat/completions \"HTTP/1.1 200 OK\"\n"
     ]
    },
    {
     "name": "stdout",
     "output_type": "stream",
     "text": [
      "Procesando registro 70/57: Self-adapting anti-surge intelligence control and ...\n"
     ]
    },
    {
     "name": "stderr",
     "output_type": "stream",
     "text": [
      "2025-08-12 05:18:36,045 - _client - HTTP Request: POST https://api.openai.com/v1/chat/completions \"HTTP/1.1 200 OK\"\n"
     ]
    },
    {
     "name": "stdout",
     "output_type": "stream",
     "text": [
      "Procesando registro 18/57: Stiction compensation for low-cost electric valves...\n"
     ]
    },
    {
     "name": "stderr",
     "output_type": "stream",
     "text": [
      "2025-08-12 05:18:39,515 - _client - HTTP Request: POST https://api.openai.com/v1/chat/completions \"HTTP/1.1 200 OK\"\n"
     ]
    },
    {
     "name": "stdout",
     "output_type": "stream",
     "text": [
      "Procesando registro 10/57: Stiction detection and recurrence analysis for con...\n"
     ]
    },
    {
     "name": "stderr",
     "output_type": "stream",
     "text": [
      "2025-08-12 05:18:43,594 - _client - HTTP Request: POST https://api.openai.com/v1/chat/completions \"HTTP/1.1 200 OK\"\n"
     ]
    },
    {
     "name": "stdout",
     "output_type": "stream",
     "text": [
      "Procesando registro 12/57: Stiction-model-based re-tuning of PI controller fo...\n"
     ]
    },
    {
     "name": "stderr",
     "output_type": "stream",
     "text": [
      "2025-08-12 05:18:46,835 - _client - HTTP Request: POST https://api.openai.com/v1/chat/completions \"HTTP/1.1 200 OK\"\n"
     ]
    },
    {
     "name": "stdout",
     "output_type": "stream",
     "text": [
      "Procesando registro 27/57: Surge protection of centrifugal compressors using ...\n"
     ]
    },
    {
     "name": "stderr",
     "output_type": "stream",
     "text": [
      "2025-08-12 05:18:50,020 - _client - HTTP Request: POST https://api.openai.com/v1/chat/completions \"HTTP/1.1 200 OK\"\n"
     ]
    },
    {
     "name": "stdout",
     "output_type": "stream",
     "text": [
      "Procesando registro 73/57: Tire Bubble Defect Detection Using Incremental Lea...\n"
     ]
    },
    {
     "name": "stderr",
     "output_type": "stream",
     "text": [
      "2025-08-12 05:18:54,035 - _client - HTTP Request: POST https://api.openai.com/v1/chat/completions \"HTTP/1.1 200 OK\"\n"
     ]
    },
    {
     "name": "stdout",
     "output_type": "stream",
     "text": [
      "Procesando registro 62/57: Utilizing Selected Machine Learning Methods for Co...\n"
     ]
    },
    {
     "name": "stderr",
     "output_type": "stream",
     "text": [
      "2025-08-12 05:18:58,709 - _client - HTTP Request: POST https://api.openai.com/v1/chat/completions \"HTTP/1.1 200 OK\"\n"
     ]
    },
    {
     "name": "stdout",
     "output_type": "stream",
     "text": [
      "✅ Calificación completada!\n",
      "\n",
      "🔄 Ordenando por score general...\n",
      "\n",
      "💾 Guardando resultados completos...\n",
      "✅ Guardado: ../data/scored_results.csv\n",
      "\n",
      "📊 Resumen de calificaciones:\n",
      "  - Include: 1\n",
      "  - Maybe: 0\n",
      "  - Exclude: 56\n",
      "  - Score promedio: 2.2\n",
      "  - Score máximo: 29\n"
     ]
    },
    {
     "data": {
      "text/html": [
       "<div>\n",
       "<style scoped>\n",
       "    .dataframe tbody tr th:only-of-type {\n",
       "        vertical-align: middle;\n",
       "    }\n",
       "\n",
       "    .dataframe tbody tr th {\n",
       "        vertical-align: top;\n",
       "    }\n",
       "\n",
       "    .dataframe thead th {\n",
       "        text-align: right;\n",
       "    }\n",
       "</style>\n",
       "<table border=\"1\" class=\"dataframe\">\n",
       "  <thead>\n",
       "    <tr style=\"text-align: right;\">\n",
       "      <th></th>\n",
       "      <th>source</th>\n",
       "      <th>Title</th>\n",
       "      <th>Author Keywords</th>\n",
       "      <th>Source title</th>\n",
       "      <th>DOI</th>\n",
       "      <th>Abstract</th>\n",
       "      <th>Document Type</th>\n",
       "      <th>Publication Year</th>\n",
       "      <th>title_norm</th>\n",
       "      <th>_doi_norm</th>\n",
       "      <th>...</th>\n",
       "      <th>score_validation</th>\n",
       "      <th>score_industrial_similarity</th>\n",
       "      <th>score_peer_review</th>\n",
       "      <th>score_data_code</th>\n",
       "      <th>score_overall</th>\n",
       "      <th>ml_technique</th>\n",
       "      <th>control_task</th>\n",
       "      <th>domain</th>\n",
       "      <th>metrics</th>\n",
       "      <th>doi_confirmed</th>\n",
       "    </tr>\n",
       "  </thead>\n",
       "  <tbody>\n",
       "    <tr>\n",
       "      <th>46</th>\n",
       "      <td>WoS</td>\n",
       "      <td>Reinforcement learning for control of valves</td>\n",
       "      <td>NaN</td>\n",
       "      <td>MACHINE LEARNING WITH APPLICATIONS</td>\n",
       "      <td>10.1016/j.mlwa.2021.100030</td>\n",
       "      <td>None</td>\n",
       "      <td>None</td>\n",
       "      <td>None</td>\n",
       "      <td>reinforcement learning for control of valves</td>\n",
       "      <td>10.1016/j.mlwa.2021.100030</td>\n",
       "      <td>...</td>\n",
       "      <td>1</td>\n",
       "      <td>2</td>\n",
       "      <td>1</td>\n",
       "      <td>0</td>\n",
       "      <td>29</td>\n",
       "      <td>Reinforcement Learning</td>\n",
       "      <td>Valve control</td>\n",
       "      <td>Industrial processes</td>\n",
       "      <td>Loop performance, robustness</td>\n",
       "      <td>True</td>\n",
       "    </tr>\n",
       "    <tr>\n",
       "      <th>31</th>\n",
       "      <td>scopus</td>\n",
       "      <td>Fault Detection of Flow Control Valves Using O...</td>\n",
       "      <td>flow control valve; LightGBM; online fault det...</td>\n",
       "      <td>Actuators</td>\n",
       "      <td>10.3390/act13060222</td>\n",
       "      <td>None</td>\n",
       "      <td>None</td>\n",
       "      <td>None</td>\n",
       "      <td>fault detection of flow control valves using o...</td>\n",
       "      <td>10.3390/act13060222</td>\n",
       "      <td>...</td>\n",
       "      <td>0</td>\n",
       "      <td>0</td>\n",
       "      <td>1</td>\n",
       "      <td>0</td>\n",
       "      <td>10</td>\n",
       "      <td>LightGBM</td>\n",
       "      <td>fault detection</td>\n",
       "      <td>flow control</td>\n",
       "      <td>not applicable</td>\n",
       "      <td>True</td>\n",
       "    </tr>\n",
       "    <tr>\n",
       "      <th>32</th>\n",
       "      <td>scopus</td>\n",
       "      <td>Implementation of ANN-Based Auto-Adjustable fo...</td>\n",
       "      <td>control; embedded; FPGA; neural network; neuro...</td>\n",
       "      <td>Micromachines</td>\n",
       "      <td>10.3390/mi13060890</td>\n",
       "      <td>None</td>\n",
       "      <td>None</td>\n",
       "      <td>None</td>\n",
       "      <td>implementation of annbased autoadjustable for ...</td>\n",
       "      <td>10.3390/mi13060890</td>\n",
       "      <td>...</td>\n",
       "      <td>0</td>\n",
       "      <td>0</td>\n",
       "      <td>1</td>\n",
       "      <td>0</td>\n",
       "      <td>10</td>\n",
       "      <td>ANN-based control</td>\n",
       "      <td>pneumatic servo system</td>\n",
       "      <td>robotics</td>\n",
       "      <td>not specified</td>\n",
       "      <td>True</td>\n",
       "    </tr>\n",
       "    <tr>\n",
       "      <th>16</th>\n",
       "      <td>scopus</td>\n",
       "      <td>Control valve stiction detection using Markov ...</td>\n",
       "      <td>convolutional neural network; machine learning...</td>\n",
       "      <td>Canadian Journal of Chemical Engineering</td>\n",
       "      <td>10.1002/cjce.25054</td>\n",
       "      <td>None</td>\n",
       "      <td>None</td>\n",
       "      <td>None</td>\n",
       "      <td>control valve stiction detection using markov ...</td>\n",
       "      <td>10.1002/cjce.25054</td>\n",
       "      <td>...</td>\n",
       "      <td>0</td>\n",
       "      <td>0</td>\n",
       "      <td>1</td>\n",
       "      <td>0</td>\n",
       "      <td>10</td>\n",
       "      <td>Deep Convolutional Neural Network</td>\n",
       "      <td>Stiction detection</td>\n",
       "      <td>Other</td>\n",
       "      <td>Not applicable</td>\n",
       "      <td>True</td>\n",
       "    </tr>\n",
       "    <tr>\n",
       "      <th>11</th>\n",
       "      <td>scopus</td>\n",
       "      <td>Automatic oscillations detection and classific...</td>\n",
       "      <td>control valve; machine learning; model free; O...</td>\n",
       "      <td>Transactions of the Institute of Measurement a...</td>\n",
       "      <td>10.1177/01423312221118129</td>\n",
       "      <td>None</td>\n",
       "      <td>None</td>\n",
       "      <td>None</td>\n",
       "      <td>automatic oscillations detection and classific...</td>\n",
       "      <td>10.1177/01423312221118129</td>\n",
       "      <td>...</td>\n",
       "      <td>0</td>\n",
       "      <td>0</td>\n",
       "      <td>1</td>\n",
       "      <td>0</td>\n",
       "      <td>7</td>\n",
       "      <td>generalized machine learning algorithms</td>\n",
       "      <td>oscillation detection</td>\n",
       "      <td>control systems</td>\n",
       "      <td>oscillation detection accuracy</td>\n",
       "      <td>True</td>\n",
       "    </tr>\n",
       "  </tbody>\n",
       "</table>\n",
       "<p>5 rows × 25 columns</p>\n",
       "</div>"
      ],
      "text/plain": [
       "    source                                              Title  \\\n",
       "46     WoS       Reinforcement learning for control of valves   \n",
       "31  scopus  Fault Detection of Flow Control Valves Using O...   \n",
       "32  scopus  Implementation of ANN-Based Auto-Adjustable fo...   \n",
       "16  scopus  Control valve stiction detection using Markov ...   \n",
       "11  scopus  Automatic oscillations detection and classific...   \n",
       "\n",
       "                                      Author Keywords  \\\n",
       "46                                                NaN   \n",
       "31  flow control valve; LightGBM; online fault det...   \n",
       "32  control; embedded; FPGA; neural network; neuro...   \n",
       "16  convolutional neural network; machine learning...   \n",
       "11  control valve; machine learning; model free; O...   \n",
       "\n",
       "                                         Source title  \\\n",
       "46                 MACHINE LEARNING WITH APPLICATIONS   \n",
       "31                                          Actuators   \n",
       "32                                      Micromachines   \n",
       "16           Canadian Journal of Chemical Engineering   \n",
       "11  Transactions of the Institute of Measurement a...   \n",
       "\n",
       "                           DOI Abstract Document Type Publication Year  \\\n",
       "46  10.1016/j.mlwa.2021.100030     None          None             None   \n",
       "31         10.3390/act13060222     None          None             None   \n",
       "32          10.3390/mi13060890     None          None             None   \n",
       "16          10.1002/cjce.25054     None          None             None   \n",
       "11   10.1177/01423312221118129     None          None             None   \n",
       "\n",
       "                                           title_norm  \\\n",
       "46       reinforcement learning for control of valves   \n",
       "31  fault detection of flow control valves using o...   \n",
       "32  implementation of annbased autoadjustable for ...   \n",
       "16  control valve stiction detection using markov ...   \n",
       "11  automatic oscillations detection and classific...   \n",
       "\n",
       "                     _doi_norm  ... score_validation  \\\n",
       "46  10.1016/j.mlwa.2021.100030  ...                1   \n",
       "31         10.3390/act13060222  ...                0   \n",
       "32          10.3390/mi13060890  ...                0   \n",
       "16          10.1002/cjce.25054  ...                0   \n",
       "11   10.1177/01423312221118129  ...                0   \n",
       "\n",
       "   score_industrial_similarity  score_peer_review  score_data_code  \\\n",
       "46                           2                  1                0   \n",
       "31                           0                  1                0   \n",
       "32                           0                  1                0   \n",
       "16                           0                  1                0   \n",
       "11                           0                  1                0   \n",
       "\n",
       "    score_overall                             ml_technique  \\\n",
       "46             29                   Reinforcement Learning   \n",
       "31             10                                 LightGBM   \n",
       "32             10                        ANN-based control   \n",
       "16             10        Deep Convolutional Neural Network   \n",
       "11              7  generalized machine learning algorithms   \n",
       "\n",
       "              control_task                domain  \\\n",
       "46           Valve control  Industrial processes   \n",
       "31         fault detection          flow control   \n",
       "32  pneumatic servo system              robotics   \n",
       "16      Stiction detection                 Other   \n",
       "11   oscillation detection       control systems   \n",
       "\n",
       "                           metrics  doi_confirmed  \n",
       "46    Loop performance, robustness           True  \n",
       "31                  not applicable           True  \n",
       "32                   not specified           True  \n",
       "16                  Not applicable           True  \n",
       "11  oscillation detection accuracy           True  \n",
       "\n",
       "[5 rows x 25 columns]"
      ]
     },
     "execution_count": 52,
     "metadata": {},
     "output_type": "execute_result"
    }
   ],
   "source": [
    "# Ejecutar: cargar → deduplicar → calificar (LLM) → guardar\n",
    "\n",
    "print(\"🔄 Cargando datos...\")\n",
    "df = pd.read_csv(INPUT_CSV)\n",
    "print(f\"📄 Filas cargadas: {len(df)}\")\n",
    "\n",
    "print(\"\\n🔄 Deduplicando registros...\")\n",
    "ddf = deduplicate(df)\n",
    "print(f\"📄 Tras deduplicar: {len(ddf)} registros únicos\")\n",
    "\n",
    "print(\"\\n🔄 Calificando con LLM...\")\n",
    "scored = score_with_llm(ddf, sleep_between_calls=0.8)\n",
    "\n",
    "print(\"\\n🔄 Ordenando por score general...\")\n",
    "scored = scored.sort_values(by=\"score_overall\", ascending=False)\n",
    "\n",
    "print(f\"\\n💾 Guardando resultados completos...\")\n",
    "scored.to_csv(OUT_CSV, index=False)\n",
    "print(f\"✅ Guardado: {OUT_CSV}\")\n",
    "\n",
    "# Mostrar resumen de resultados\n",
    "print(f\"\\n📊 Resumen de calificaciones:\")\n",
    "print(f\"  - Include: {len(scored[scored['llm_decision'] == 'Include'])}\")\n",
    "print(f\"  - Maybe: {len(scored[scored['llm_decision'] == 'Maybe'])}\")\n",
    "print(f\"  - Exclude: {len(scored[scored['llm_decision'] == 'Exclude'])}\")\n",
    "print(f\"  - Score promedio: {scored['score_overall'].mean():.1f}\")\n",
    "print(f\"  - Score máximo: {scored['score_overall'].max()}\")\n",
    "\n",
    "scored.head()"
   ]
  },
  {
   "cell_type": "markdown",
   "id": "36b9cd16",
   "metadata": {},
   "source": [
    "## 9) Filtrado al Top-10 (prioriza vs PID, validación y puntaje total)"
   ]
  },
  {
   "cell_type": "code",
   "execution_count": 53,
   "id": "fd6f5472",
   "metadata": {},
   "outputs": [
    {
     "name": "stdout",
     "output_type": "stream",
     "text": [
      "Guardado:\n",
      "- ../data/scored_results.csv\n",
      "- ../data/scored_results.xlsx\n"
     ]
    }
   ],
   "source": [
    "with pd.ExcelWriter(OUT_XLSX, engine=\"xlsxwriter\") as w:\n",
    "    scored.to_excel(w, sheet_name=\"All_Scored\", index=False)\n",
    "\n",
    "print(\"Guardado:\")\n",
    "print(\"-\", OUT_CSV)\n",
    "print(\"-\", OUT_XLSX)"
   ]
  },
  {
   "cell_type": "code",
   "execution_count": 54,
   "id": "eb5ea8e4",
   "metadata": {},
   "outputs": [
    {
     "name": "stdout",
     "output_type": "stream",
     "text": [
      "🔄 Generando Top-10...\n",
      "✅ Top-10 seleccionado de 1 candidatos relevantes.\n",
      "💾 Top-10 guardado: Top10.xlsx y Top10.csv\n",
      "\n",
      "🏆 TOP-10 MÁS RELEVANTES:\n",
      "                                          Title                        DOI  score_overall llm_decision                                                                                             llm_reason\n",
      "Reinforcement learning for control of valves... 10.1016/j.mlwa.2021.100030             29      Include The study focuses on reinforcement learning for valve control, which aligns with the research context.\n"
     ]
    }
   ],
   "source": [
    "# Generar Top-10 filtrado y optimizado\n",
    "print(\"🔄 Generando Top-10...\")\n",
    "top10 = shortlist_top10(scored)\n",
    "\n",
    "# Guardar Top-10\n",
    "top10.to_excel(\"../data/Top10.xlsx\", index=False)\n",
    "top10.to_csv(\"../data/Top10.csv\", index=False)\n",
    "print(f\"💾 Top-10 guardado: Top10.xlsx y Top10.csv\")\n",
    "\n",
    "# Mostrar resumen del Top-10\n",
    "print(f\"\\n🏆 TOP-10 MÁS RELEVANTES:\")\n",
    "display_cols = [\"Title\", \"DOI\", \"score_overall\", \"llm_decision\", \"llm_reason\"]\n",
    "top10_display = top10[display_cols].copy()\n",
    "top10_display[\"Title\"] = top10_display[\"Title\"].str[:50] + \"...\"  # Truncar títulos largos\n",
    "\n",
    "print(top10_display.to_string(index=False))"
   ]
  },
  {
   "cell_type": "markdown",
   "id": "13dd61a9",
   "metadata": {},
   "source": [
    "\n",
    "## 10) Siguientes pasos\n",
    "- Revisa `Top10.xlsx` y el `sheet All_Scored` para ajustar criterios o PICO.\n",
    "- Si deseas un **núcleo más estricto** (solo control de válvula con comparación vs PID), filtra por:\n",
    "  - `Title` contenga *\"valv\"* y *\"control\"* y *\"PID\"*\n",
    "  - `score_vs_pid >= 1` y `score_relevance_valve >= 2`\n",
    "- Puedes cambiar el **PROMPT_TEMPLATE** o los **pesos** y re-ejecutar.\n",
    "- Exporta los incluidos a **Zotero** (CSV/BetterBibTeX) y a **Rayyan** para PRISMA.\n"
   ]
  }
 ],
 "metadata": {
  "kernelspec": {
   "display_name": ".venv (3.11.9)",
   "language": "python",
   "name": "python3"
  },
  "language_info": {
   "codemirror_mode": {
    "name": "ipython",
    "version": 3
   },
   "file_extension": ".py",
   "mimetype": "text/x-python",
   "name": "python",
   "nbconvert_exporter": "python",
   "pygments_lexer": "ipython3",
   "version": "3.11.9"
  }
 },
 "nbformat": 4,
 "nbformat_minor": 5
}
