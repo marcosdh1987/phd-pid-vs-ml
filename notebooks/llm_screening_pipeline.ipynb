{
 "cells": [
  {
   "cell_type": "markdown",
   "id": "87a80a9f",
   "metadata": {},
   "source": [
    "\n",
    "# 📚 Pipeline PRISMA + PICO con LLM (Scopus + WoS)\n",
    "Este cuaderno te guía **paso a paso** para:\n",
    "1) Cargar tu CSV (resultados Scopus/WoS).  \n",
    "2) **Deduplicar** por DOI / Título normalizado.  \n",
    "3) Calificar **cada registro** con un **LLM** usando **PICO** (Include/Exclude/Maybe + puntajes).  \n",
    "4) Guardar resultados (CSV/Excel) y **filtrar al Top-10** más relevante para tu revisión.\n",
    "\n",
    "> Puedes usar **DRY_RUN** para probar sin gastar tokens: genera salidas simuladas y no llama al LLM.\n"
   ]
  },
  {
   "cell_type": "markdown",
   "id": "9a114e41",
   "metadata": {},
   "source": [
    "## 0) Requisitos"
   ]
  },
  {
   "cell_type": "code",
   "execution_count": null,
   "id": "337066f8",
   "metadata": {},
   "outputs": [],
   "source": [
    "\n",
    "# (Opcional) instala dependencias si hace falta en tu entorno\n",
    "# !pip install -q pandas openai python-dotenv xlsxwriter\n"
   ]
  },
  {
   "cell_type": "markdown",
   "id": "7581b10c",
   "metadata": {},
   "source": [
    "## 1) Configuración general (rutas y modo DRY_RUN)"
   ]
  },
  {
   "cell_type": "code",
   "execution_count": 13,
   "id": "3341ec24",
   "metadata": {},
   "outputs": [
    {
     "name": "stdout",
     "output_type": "stream",
     "text": [
      "INPUT_CSV: ../data/titles_result.csv\n",
      "OUT_CSV: ../data/scored_results.csv\n",
      "OUT_XLSX: ../data/scored_results.xlsx\n",
      "DRY_RUN: False\n"
     ]
    }
   ],
   "source": [
    "\n",
    "import os, re, time, json\n",
    "import pandas as pd\n",
    "\n",
    "# === Paths de entrada / salida ===\n",
    "INPUT_CSV = \"../data/titles_result.csv\"  # <-- Cambia aquí si tu archivo tiene otro nombre\n",
    "OUT_CSV   = \"../data/scored_results.csv\"\n",
    "OUT_XLSX  = \"../data/scored_results.xlsx\"\n",
    "\n",
    "# === Modo simulación (no llama al LLM, útil para probar sin costo) ===\n",
    "DRY_RUN = False  # <- pon True para simular (no requiere API key)\n",
    "\n",
    "print(f\"INPUT_CSV: {INPUT_CSV}\\nOUT_CSV: {OUT_CSV}\\nOUT_XLSX: {OUT_XLSX}\\nDRY_RUN: {DRY_RUN}\")\n"
   ]
  },
  {
   "cell_type": "markdown",
   "id": "7a78e439",
   "metadata": {},
   "source": [
    "## 2) Define tu PICO y pesos (editable)"
   ]
  },
  {
   "cell_type": "code",
   "execution_count": 3,
   "id": "913f485a",
   "metadata": {},
   "outputs": [
    {
     "data": {
      "text/plain": [
       "{'P': 'Procesos industriales con válvulas (well testing, separación trifásica, refinería y análogos).',\n",
       " 'I': 'Control basado en ML: redes neuronales (ANN/DL), aprendizaje por refuerzo (RL), híbridos neuro-PID, agentes/LLM.',\n",
       " 'C': 'Controladores PID/PI tradicionales (baseline o referencia).',\n",
       " 'O': 'Desempeño de lazo (overshoot, settling, IAE/ISE, error RMS), robustez, autonomía (menos intervención humana), viabilidad PLC/SCADA.'}"
      ]
     },
     "execution_count": 3,
     "metadata": {},
     "output_type": "execute_result"
    }
   ],
   "source": [
    "\n",
    "# === PICO (edítalo para otras búsquedas) ===\n",
    "PICO = {\n",
    "    \"P\": \"Procesos industriales con válvulas (well testing, separación trifásica, refinería y análogos).\",\n",
    "    \"I\": \"Control basado en ML: redes neuronales (ANN/DL), aprendizaje por refuerzo (RL), híbridos neuro-PID, agentes/LLM.\",\n",
    "    \"C\": \"Controladores PID/PI tradicionales (baseline o referencia).\",\n",
    "    \"O\": \"Desempeño de lazo (overshoot, settling, IAE/ISE, error RMS), robustez, autonomía (menos intervención humana), viabilidad PLC/SCADA.\"\n",
    "}\n",
    "\n",
    "# === Pesos de la rúbrica (si cambias la escala, ajusta aquí) ===\n",
    "WEIGHTS = {\n",
    "    \"relevance_valve\": 3,           # 0-3\n",
    "    \"ml_strength\": 3,               # 0-3\n",
    "    \"vs_pid\": 2,                    # 0-2\n",
    "    \"validation\": 2,                # 0-2\n",
    "    \"industrial_similarity\": 2,     # 0-2\n",
    "    \"peer_review\": 1,               # 0-1\n",
    "    \"data_code\": 1                  # 0-1\n",
    "}\n",
    "\n",
    "PICO\n"
   ]
  },
  {
   "cell_type": "markdown",
   "id": "46c90ae8",
   "metadata": {},
   "source": [
    "## 3) Prompt del LLM (con placeholders PICO)"
   ]
  },
  {
   "cell_type": "code",
   "execution_count": 32,
   "id": "d4e7e368",
   "metadata": {},
   "outputs": [],
   "source": [
    "# Updated prompt for PRISMA systematic review using ChatPromptTemplate\n",
    "from langchain_core.prompts import ChatPromptTemplate\n",
    "\n",
    "prompt = ChatPromptTemplate.from_template(\n",
    "    \"\"\"You are assisting a PRISMA-style systematic review. \n",
    "    Rate the following record against the PICO question.\n",
    "\n",
    "    PICO:\n",
    "    - P (Population/Problem): {P}\n",
    "    - I (Intervention): {I}\n",
    "    - C (Comparison): {C}\n",
    "    - O (Outcomes): {O}\n",
    "\n",
    "    Rubric and scales (return integers only in the ranges indicated):\n",
    "    - relevance_valve: 0–3 (direct valve control with closed-loop metrics=3; tangential=0)\n",
    "    - ml_strength: 0–3 (RL/Deep NN/online learning=3; shallow/heuristic ML=1; none=0)\n",
    "    - vs_pid: 0–2 (explicit quantitative comparison vs PID=2; mentions PID as baseline=1; none=0)\n",
    "    - validation: 0–2 (conceptual=0; simulation=1; pilot/field or bench experiments=2)\n",
    "    - industrial_similarity: 0–2 (well testing/separation/ICV/choke=2; related process=1; other=0)\n",
    "    - peer_review: 0–1 (1 if peer-reviewed journal/conference; 0 otherwise/preprint)\n",
    "    - data_code: 0–1 (1 if datasets/code openly available or reproducibility noted; else 0)\n",
    "\n",
    "    Record:\n",
    "    - Title: {title}\n",
    "    - Source: {source_title}\n",
    "    - DOI: {doi}\n",
    "    - Keywords: {keywords}\n",
    "    - Abstract: {abstract}\n",
    "    \"\"\"\n",
    ")"
   ]
  },
  {
   "cell_type": "code",
   "execution_count": 33,
   "id": "9abddda2",
   "metadata": {},
   "outputs": [],
   "source": [
    "from pydantic import BaseModel, Field\n",
    "from typing import Optional, Literal\n",
    "\n",
    "class Scores(BaseModel):\n",
    "    relevance_valve: int = Field(description=\"0-3: direct valve control with closed-loop metrics=3; tangential=0\")\n",
    "    ml_strength: int = Field(description=\"0-3: RL/Deep NN/online learning=3; shallow/heuristic ML=1; none=0\")\n",
    "    vs_pid: int = Field(description=\"0-2: explicit quantitative comparison vs PID=2; mentions PID as baseline=1; none=0\")\n",
    "    validation: int = Field(description=\"0-2: conceptual=0; simulation=1; pilot/field or bench experiments=2\")\n",
    "    industrial_similarity: int = Field(description=\"0-2: well testing/separation/ICV/choke=2; related process=1; other=0\")\n",
    "    peer_review: int = Field(description=\"0-1: 1 if peer-reviewed journal/conference; 0 otherwise/preprint\")\n",
    "    data_code: int = Field(description=\"0-1: 1 if datasets/code openly available or reproducibility noted; else 0\")\n",
    "\n",
    "class Notes(BaseModel):\n",
    "    ml_technique: str = Field(description=\"short string describing ML technique used\")\n",
    "    control_task: str = Field(description=\"level/pressure/flow/valve positioning/other\")\n",
    "    domain: str = Field(description=\"well testing/ICV/choke/separation/other\")\n",
    "    metrics: str = Field(description=\"e.g., overshoot/settling/IAE/ISE/error/robustness\")\n",
    "    doi_confirmed: bool = Field(description=\"true if DOI is valid and confirmed\")\n",
    "\n",
    "class ScoredRecord(BaseModel):\n",
    "    decision: Literal[\"Include\", \"Exclude\", \"Maybe\"] = Field(description=\"Include/Exclude/Maybe decision\")\n",
    "    reason: str = Field(description=\"one-line reason for decision\")\n",
    "    scores: Scores = Field(description=\"scoring rubric results\")\n",
    "    notes: Notes = Field(description=\"additional analysis notes\")"
   ]
  },
  {
   "cell_type": "code",
   "execution_count": 34,
   "id": "95ed94dc",
   "metadata": {},
   "outputs": [],
   "source": [
    "import sys\n",
    "sys.path.append(\"..\")  # Asegura que el directorio padre esté en el path\n",
    "from model.llm import ModelFactory\n",
    "\n",
    "model_core = \"gpt4omini\"\n",
    "\n",
    "factory = ModelFactory(model_name=model_core, temperature=0)\n",
    "llm = factory.create_model()\n",
    "\n",
    "structured_llm = llm.with_structured_output(ScoredRecord)\n",
    "\n",
    "chain = prompt | structured_llm"
   ]
  },
  {
   "cell_type": "code",
   "execution_count": 35,
   "id": "5175c71d",
   "metadata": {},
   "outputs": [
    {
     "name": "stdout",
     "output_type": "stream",
     "text": [
      "Testing chain with real data...\n",
      "Title: Reinforcement learning for control of valves\n",
      "DOI: 10.1016/j.mlwa.2021.100030\n",
      "\n",
      "Calling LLM...\n"
     ]
    },
    {
     "name": "stderr",
     "output_type": "stream",
     "text": [
      "2025-08-11 09:10:32,210 - _client - HTTP Request: POST https://api.openai.com/v1/chat/completions \"HTTP/1.1 200 OK\"\n"
     ]
    },
    {
     "name": "stdout",
     "output_type": "stream",
     "text": [
      "\n",
      "Results:\n",
      "Decision: Include\n",
      "Reason: The record discusses reinforcement learning for valve control, aligning well with the PICO criteria.\n",
      "Scores: relevance_valve=3 ml_strength=3 vs_pid=2 validation=1 industrial_similarity=2 peer_review=1 data_code=0\n",
      "Notes: ml_technique='Reinforcement Learning' control_task='Valve control' domain='Well testing/Separation' metrics='Overshoot, settling, IAE/ISE, error RMS, robustness' doi_confirmed=True\n"
     ]
    }
   ],
   "source": [
    "# Test con datos reales del CSV\n",
    "inputs = {\n",
    "    \"P\": \"Procesos industriales con válvulas (well testing, separación trifásica, refinería y análogos).\",\n",
    "    \"I\": \"Control basado en ML: redes neuronales (ANN/DL), aprendizaje por refuerzo (RL), híbridos neuro-PID, agentes/LLM.\",\n",
    "    \"C\": \"Controladores PID/PI tradicionales (baseline o referencia).\",\n",
    "    \"O\": \"Desempeño de lazo (overshoot, settling, IAE/ISE, error RMS), robustez, autonomía (menos intervención humana), viabilidad PLC/SCADA.\",\n",
    "    \"title\": \"Reinforcement learning for control of valves\",\n",
    "    \"source_title\": \"Machine Learning with Applications\",\n",
    "    \"doi\": \"10.1016/j.mlwa.2021.100030\",\n",
    "    \"keywords\": \"\",  # No keywords in this record\n",
    "    \"abstract\": \"\"   # No abstract available in CSV\n",
    "}\n",
    "\n",
    "print(\"Testing chain with real data...\")\n",
    "print(f\"Title: {inputs['title']}\")\n",
    "print(f\"DOI: {inputs['doi']}\")\n",
    "print(\"\\nCalling LLM...\")\n",
    "\n",
    "results = chain.invoke(inputs)\n",
    "print(\"\\nResults:\")\n",
    "print(f\"Decision: {results.decision}\")\n",
    "print(f\"Reason: {results.reason}\")\n",
    "print(f\"Scores: {results.scores}\")\n",
    "print(f\"Notes: {results.notes}\")"
   ]
  },
  {
   "cell_type": "markdown",
   "id": "7ba311a0",
   "metadata": {},
   "source": [
    "## 5) Funciones auxiliares (dedup, normalización)"
   ]
  },
  {
   "cell_type": "code",
   "execution_count": 36,
   "id": "03474195",
   "metadata": {},
   "outputs": [],
   "source": [
    "\n",
    "def normalize_title(t: str) -> str:\n",
    "    if not isinstance(t, str):\n",
    "        return \"\"\n",
    "    t = t.lower().strip()\n",
    "    t = re.sub(r\"\\s+\", \" \", t)\n",
    "    t = re.sub(r\"[^\\w\\s]\", \"\", t)\n",
    "    return t\n",
    "\n",
    "def is_peer_reviewed(source_title: str) -> int:\n",
    "    s = (source_title or \"\").lower()\n",
    "    if any(k in s for k in [\"journal\", \"transactions\", \"proceedings\", \"conference\", \"letters\", \"acta\", \"control\", \"engineering\", \"ifac\", \"ieee\", \"elsevier\", \"springer\", \"wiley\", \"mdpi\", \"acs\"]):\n",
    "        return 1\n",
    "    return 0\n",
    "\n",
    "def deduplicate(df: pd.DataFrame) -> pd.DataFrame:\n",
    "    df = df.copy()\n",
    "    for c in [\"Title\",\"Source title\",\"DOI\",\"Abstract\",\"Author Keywords\",\"Document Type\",\"Publication Year\",\"source\"]:\n",
    "        if c not in df.columns:\n",
    "            df[c] = None\n",
    "    df[\"title_norm\"] = df[\"Title\"].apply(normalize_title)\n",
    "    df[\"_doi_norm\"] = df[\"DOI\"].astype(str).str.strip().str.lower()\n",
    "    df[\"_peer\"] = df[\"Source title\"].apply(is_peer_reviewed)\n",
    "\n",
    "    df = df.sort_values([\"_doi_norm\",\"_peer\"], ascending=[True, False])\n",
    "    df = df.drop_duplicates(subset=[\"_doi_norm\",\"title_norm\"], keep=\"first\")\n",
    "\n",
    "    df = df.sort_values([\"title_norm\",\"_peer\"], ascending=[True, False])\n",
    "    df = df.drop_duplicates(subset=[\"title_norm\"], keep=\"first\")\n",
    "\n",
    "    return df.drop(columns=[\"_peer\"])\n"
   ]
  },
  {
   "cell_type": "code",
   "execution_count": 37,
   "id": "a1714f3d",
   "metadata": {},
   "outputs": [],
   "source": [
    "def score_with_llm(df: pd.DataFrame, sleep_between_calls: float = 0.8) -> pd.DataFrame:\n",
    "    \"\"\"\n",
    "    Califica cada registro del DataFrame usando la chain de LangChain con structured output.\n",
    "    \"\"\"\n",
    "    rows = []\n",
    "    \n",
    "    print(f\"Procesando {len(df)} registros...\")\n",
    "    \n",
    "    for i, r in df.iterrows():\n",
    "        print(f\"Procesando registro {i+1}/{len(df)}: {r.get('Title', 'Sin título')[:50]}...\")\n",
    "        \n",
    "        # Preparar input para la chain\n",
    "        inputs = {\n",
    "            \"P\": PICO[\"P\"],\n",
    "            \"I\": PICO[\"I\"], \n",
    "            \"C\": PICO[\"C\"],\n",
    "            \"O\": PICO[\"O\"],\n",
    "            \"title\": str(r.get(\"Title\", \"\")),\n",
    "            \"source_title\": str(r.get(\"Source title\", \"\")),\n",
    "            \"doi\": str(r.get(\"DOI\", \"\")),\n",
    "            \"keywords\": str(r.get(\"Author Keywords\", \"\")),\n",
    "            \"abstract\": str(r.get(\"Abstract\", \"\")) if \"Abstract\" in df.columns else \"\"\n",
    "        }\n",
    "        \n",
    "        try:\n",
    "            # Llamar a la chain\n",
    "            result = chain.invoke(inputs)\n",
    "            \n",
    "            # Calcular score total basado en WEIGHTS\n",
    "            total_score = (\n",
    "                result.scores.relevance_valve * WEIGHTS[\"relevance_valve\"] +\n",
    "                result.scores.ml_strength * WEIGHTS[\"ml_strength\"] +\n",
    "                result.scores.vs_pid * WEIGHTS[\"vs_pid\"] +\n",
    "                result.scores.validation * WEIGHTS[\"validation\"] +\n",
    "                result.scores.industrial_similarity * WEIGHTS[\"industrial_similarity\"] +\n",
    "                result.scores.peer_review * WEIGHTS[\"peer_review\"] +\n",
    "                result.scores.data_code * WEIGHTS[\"data_code\"]\n",
    "            )\n",
    "            \n",
    "            # Crear registro de salida\n",
    "            out = {\n",
    "                \"llm_decision\": result.decision,\n",
    "                \"llm_reason\": result.reason.strip(),\n",
    "                \"score_relevance_valve\": result.scores.relevance_valve,\n",
    "                \"score_ml_strength\": result.scores.ml_strength,\n",
    "                \"score_vs_pid\": result.scores.vs_pid,\n",
    "                \"score_validation\": result.scores.validation,\n",
    "                \"score_industrial_similarity\": result.scores.industrial_similarity,\n",
    "                \"score_peer_review\": result.scores.peer_review,\n",
    "                \"score_data_code\": result.scores.data_code,\n",
    "                \"score_overall\": total_score,\n",
    "                \"ml_technique\": result.notes.ml_technique,\n",
    "                \"control_task\": result.notes.control_task,\n",
    "                \"domain\": result.notes.domain,\n",
    "                \"metrics\": result.notes.metrics,\n",
    "                \"doi_confirmed\": result.notes.doi_confirmed\n",
    "            }\n",
    "            \n",
    "        except Exception as e:\n",
    "            print(f\"Error procesando registro {i+1}: {e}\")\n",
    "            # Crear registro de error\n",
    "            out = {\n",
    "                \"llm_decision\": \"Exclude\",\n",
    "                \"llm_reason\": f\"Error de procesamiento: {str(e)}\",\n",
    "                \"score_relevance_valve\": 0,\n",
    "                \"score_ml_strength\": 0,\n",
    "                \"score_vs_pid\": 0,\n",
    "                \"score_validation\": 0,\n",
    "                \"score_industrial_similarity\": 0,\n",
    "                \"score_peer_review\": 0,\n",
    "                \"score_data_code\": 0,\n",
    "                \"score_overall\": 0,\n",
    "                \"ml_technique\": \"\",\n",
    "                \"control_task\": \"\",\n",
    "                \"domain\": \"\",\n",
    "                \"metrics\": \"\",\n",
    "                \"doi_confirmed\": False\n",
    "            }\n",
    "        \n",
    "        rows.append(out)\n",
    "        time.sleep(sleep_between_calls)\n",
    "    \n",
    "    # Combinar DataFrame original con nuevas columnas\n",
    "    scored_df = pd.DataFrame(rows, index=df.index)\n",
    "    result_df = pd.concat([df.reset_index(drop=True), scored_df.reset_index(drop=True)], axis=1)\n",
    "    \n",
    "    print(\"✅ Calificación completada!\")\n",
    "    return result_df"
   ]
  },
  {
   "cell_type": "code",
   "execution_count": 38,
   "id": "33ff5ecd",
   "metadata": {},
   "outputs": [],
   "source": [
    "def shortlist_top10(scored: pd.DataFrame) -> pd.DataFrame:\n",
    "    \"\"\"\n",
    "    Filtra y ordena el DataFrame para obtener el top-10 más relevante.\n",
    "    Prioriza papers con control de válvulas, scores altos, y decisiones Include/Maybe.\n",
    "    \"\"\"\n",
    "    # Filtros de relevancia\n",
    "    has_valve_control = (\n",
    "        scored[\"Title\"].str.contains(r\"valv\", case=False, na=False) & \n",
    "        scored[\"Title\"].str.contains(r\"control\", case=False, na=False)\n",
    "    )\n",
    "    \n",
    "    strong_scores = scored[\"score_overall\"] >= 7\n",
    "    include_like = scored[\"llm_decision\"].isin([\"Include\", \"Maybe\"])\n",
    "    \n",
    "    # Aplicar filtros\n",
    "    prelim = scored[(has_valve_control | strong_scores) & include_like].copy()\n",
    "    \n",
    "    if len(prelim) == 0:\n",
    "        print(\"⚠️  No se encontraron registros que cumplan los criterios. Mostrando top 10 por score general.\")\n",
    "        prelim = scored.copy()\n",
    "    \n",
    "    # Ordenar por prioridad: vs_pid > validation > score_overall\n",
    "    prelim = prelim.sort_values(\n",
    "        by=[\"score_vs_pid\", \"score_validation\", \"score_overall\"],\n",
    "        ascending=[False, False, False]\n",
    "    )\n",
    "    \n",
    "    top10 = prelim.head(10)\n",
    "    print(f\"✅ Top-10 seleccionado de {len(prelim)} candidatos relevantes.\")\n",
    "    \n",
    "    return top10"
   ]
  },
  {
   "cell_type": "markdown",
   "id": "2a91b8df",
   "metadata": {},
   "source": [
    "## 8) Ejecutar: cargar → deduplicar → calificar (LLM) → guardar"
   ]
  },
  {
   "cell_type": "code",
   "execution_count": 39,
   "id": "32eca713",
   "metadata": {},
   "outputs": [
    {
     "name": "stdout",
     "output_type": "stream",
     "text": [
      "🔄 Cargando datos...\n",
      "📄 Filas cargadas: 79\n",
      "\n",
      "🔄 Deduplicando registros...\n",
      "📄 Tras deduplicar: 57 registros únicos\n",
      "\n",
      "🔄 Calificando con LLM...\n",
      "Procesando 57 registros...\n",
      "Procesando registro 51/57: A Literature Review of the Positive Displacement C...\n"
     ]
    },
    {
     "name": "stderr",
     "output_type": "stream",
     "text": [
      "2025-08-11 09:20:05,571 - _client - HTTP Request: POST https://api.openai.com/v1/chat/completions \"HTTP/1.1 200 OK\"\n"
     ]
    },
    {
     "name": "stdout",
     "output_type": "stream",
     "text": [
      "Procesando registro 58/57: A Method for Detecting Key Points of Transferring ...\n"
     ]
    },
    {
     "name": "stderr",
     "output_type": "stream",
     "text": [
      "2025-08-11 09:20:09,742 - _client - HTTP Request: POST https://api.openai.com/v1/chat/completions \"HTTP/1.1 200 OK\"\n"
     ]
    },
    {
     "name": "stdout",
     "output_type": "stream",
     "text": [
      "Procesando registro 57/57: A novel modelling of glue allowance prediction for...\n"
     ]
    },
    {
     "name": "stderr",
     "output_type": "stream",
     "text": [
      "2025-08-11 09:20:13,314 - _client - HTTP Request: POST https://api.openai.com/v1/chat/completions \"HTTP/1.1 200 OK\"\n"
     ]
    },
    {
     "name": "stdout",
     "output_type": "stream",
     "text": [
      "Procesando registro 1/57: A one-class support vector machine for detecting v...\n"
     ]
    },
    {
     "name": "stderr",
     "output_type": "stream",
     "text": [
      "2025-08-11 09:20:17,181 - _client - HTTP Request: POST https://api.openai.com/v1/chat/completions \"HTTP/1.1 200 OK\"\n"
     ]
    },
    {
     "name": "stdout",
     "output_type": "stream",
     "text": [
      "Procesando registro 64/57: A Performance Prediction Method for a High-Precisi...\n"
     ]
    },
    {
     "name": "stderr",
     "output_type": "stream",
     "text": [
      "2025-08-11 09:20:20,445 - _client - HTTP Request: POST https://api.openai.com/v1/chat/completions \"HTTP/1.1 200 OK\"\n"
     ]
    },
    {
     "name": "stdout",
     "output_type": "stream",
     "text": [
      "Procesando registro 61/57: A systematic approach for data generation for inte...\n"
     ]
    },
    {
     "name": "stderr",
     "output_type": "stream",
     "text": [
      "2025-08-11 09:20:23,938 - _client - HTTP Request: POST https://api.openai.com/v1/chat/completions \"HTTP/1.1 200 OK\"\n"
     ]
    },
    {
     "name": "stdout",
     "output_type": "stream",
     "text": [
      "Procesando registro 15/57: Advanced Study: Improving the Quality of Cooling W...\n"
     ]
    },
    {
     "name": "stderr",
     "output_type": "stream",
     "text": [
      "2025-08-11 09:20:27,117 - _client - HTTP Request: POST https://api.openai.com/v1/chat/completions \"HTTP/1.1 200 OK\"\n"
     ]
    },
    {
     "name": "stdout",
     "output_type": "stream",
     "text": [
      "Procesando registro 24/57: An approach for stiction compensation in industria...\n"
     ]
    },
    {
     "name": "stderr",
     "output_type": "stream",
     "text": [
      "2025-08-11 09:20:30,497 - _client - HTTP Request: POST https://api.openai.com/v1/chat/completions \"HTTP/1.1 200 OK\"\n"
     ]
    },
    {
     "name": "stdout",
     "output_type": "stream",
     "text": [
      "Procesando registro 71/57: Anomaly Segmentation Based on Depth Image for Qual...\n"
     ]
    },
    {
     "name": "stderr",
     "output_type": "stream",
     "text": [
      "2025-08-11 09:20:33,315 - _client - HTTP Request: POST https://api.openai.com/v1/chat/completions \"HTTP/1.1 200 OK\"\n"
     ]
    },
    {
     "name": "stdout",
     "output_type": "stream",
     "text": [
      "Procesando registro 7/57: APAH: An autonomous IoT driven real-time monitorin...\n"
     ]
    },
    {
     "name": "stderr",
     "output_type": "stream",
     "text": [
      "2025-08-11 09:20:36,354 - _client - HTTP Request: POST https://api.openai.com/v1/chat/completions \"HTTP/1.1 200 OK\"\n"
     ]
    },
    {
     "name": "stdout",
     "output_type": "stream",
     "text": [
      "Procesando registro 32/57: Applicant hierarchical fuzzy controller for concen...\n"
     ]
    },
    {
     "name": "stderr",
     "output_type": "stream",
     "text": [
      "2025-08-11 09:20:39,253 - _client - HTTP Request: POST https://api.openai.com/v1/chat/completions \"HTTP/1.1 200 OK\"\n"
     ]
    },
    {
     "name": "stdout",
     "output_type": "stream",
     "text": [
      "Procesando registro 2/57: Automatic oscillations detection and classificatio...\n"
     ]
    },
    {
     "name": "stderr",
     "output_type": "stream",
     "text": [
      "2025-08-11 09:20:42,131 - _client - HTTP Request: POST https://api.openai.com/v1/chat/completions \"HTTP/1.1 200 OK\"\n"
     ]
    },
    {
     "name": "stdout",
     "output_type": "stream",
     "text": [
      "Procesando registro 75/57: Bridging the performance gap between passive and a...\n"
     ]
    },
    {
     "name": "stderr",
     "output_type": "stream",
     "text": [
      "2025-08-11 09:20:45,135 - _client - HTTP Request: POST https://api.openai.com/v1/chat/completions \"HTTP/1.1 200 OK\"\n"
     ]
    },
    {
     "name": "stdout",
     "output_type": "stream",
     "text": [
      "Procesando registro 40/57: Communicating the Automatic Control Principles in ...\n"
     ]
    },
    {
     "name": "stderr",
     "output_type": "stream",
     "text": [
      "2025-08-11 09:20:48,686 - _client - HTTP Request: POST https://api.openai.com/v1/chat/completions \"HTTP/1.1 200 OK\"\n"
     ]
    },
    {
     "name": "stdout",
     "output_type": "stream",
     "text": [
      "Procesando registro 11/57: Comparative Analysis of PID and Robust IMC Control...\n"
     ]
    },
    {
     "name": "stderr",
     "output_type": "stream",
     "text": [
      "2025-08-11 09:20:53,524 - _client - HTTP Request: POST https://api.openai.com/v1/chat/completions \"HTTP/1.1 200 OK\"\n"
     ]
    },
    {
     "name": "stdout",
     "output_type": "stream",
     "text": [
      "Procesando registro 8/57: Complex Dynamics and Intelligent Control: Advances...\n"
     ]
    },
    {
     "name": "stderr",
     "output_type": "stream",
     "text": [
      "2025-08-11 09:20:56,258 - _client - HTTP Request: POST https://api.openai.com/v1/chat/completions \"HTTP/1.1 200 OK\"\n"
     ]
    },
    {
     "name": "stdout",
     "output_type": "stream",
     "text": [
      "Procesando registro 3/57: Control valve stiction detection using Markov tran...\n"
     ]
    },
    {
     "name": "stderr",
     "output_type": "stream",
     "text": [
      "2025-08-11 09:20:59,466 - _client - HTTP Request: POST https://api.openai.com/v1/chat/completions \"HTTP/1.1 200 OK\"\n"
     ]
    },
    {
     "name": "stdout",
     "output_type": "stream",
     "text": [
      "Procesando registro 20/57: Design and Realization of Fully Automatic Pump Per...\n"
     ]
    },
    {
     "name": "stderr",
     "output_type": "stream",
     "text": [
      "2025-08-11 09:21:02,227 - _client - HTTP Request: POST https://api.openai.com/v1/chat/completions \"HTTP/1.1 200 OK\"\n"
     ]
    },
    {
     "name": "stdout",
     "output_type": "stream",
     "text": [
      "Procesando registro 25/57: Design of FOPID Controller for Pneumatic Control V...\n"
     ]
    },
    {
     "name": "stderr",
     "output_type": "stream",
     "text": [
      "2025-08-11 09:21:06,912 - _client - HTTP Request: POST https://api.openai.com/v1/chat/completions \"HTTP/1.1 200 OK\"\n"
     ]
    },
    {
     "name": "stdout",
     "output_type": "stream",
     "text": [
      "Procesando registro 66/57: Detecting Semantic Attack in SCADA System: A Behav...\n"
     ]
    },
    {
     "name": "stderr",
     "output_type": "stream",
     "text": [
      "2025-08-11 09:21:09,702 - _client - HTTP Request: POST https://api.openai.com/v1/chat/completions \"HTTP/1.1 200 OK\"\n"
     ]
    },
    {
     "name": "stdout",
     "output_type": "stream",
     "text": [
      "Procesando registro 17/57: Developing a novel Gaussian process model predicti...\n"
     ]
    },
    {
     "name": "stderr",
     "output_type": "stream",
     "text": [
      "2025-08-11 09:21:12,747 - _client - HTTP Request: POST https://api.openai.com/v1/chat/completions \"HTTP/1.1 200 OK\"\n"
     ]
    },
    {
     "name": "stdout",
     "output_type": "stream",
     "text": [
      "Procesando registro 39/57: Development of Pneumatic Force-Controlled Actuator...\n"
     ]
    },
    {
     "name": "stderr",
     "output_type": "stream",
     "text": [
      "2025-08-11 09:21:15,349 - _client - HTTP Request: POST https://api.openai.com/v1/chat/completions \"HTTP/1.1 200 OK\"\n"
     ]
    },
    {
     "name": "stdout",
     "output_type": "stream",
     "text": [
      "Procesando registro 21/57: Development of rotary straw burying and returning ...\n"
     ]
    },
    {
     "name": "stderr",
     "output_type": "stream",
     "text": [
      "2025-08-11 09:21:18,518 - _client - HTTP Request: POST https://api.openai.com/v1/chat/completions \"HTTP/1.1 200 OK\"\n"
     ]
    },
    {
     "name": "stdout",
     "output_type": "stream",
     "text": [
      "Procesando registro 68/57: Diagnosis of Pneumatic Systems on Basis of Time Se...\n"
     ]
    },
    {
     "name": "stderr",
     "output_type": "stream",
     "text": [
      "2025-08-11 09:21:21,075 - _client - HTTP Request: POST https://api.openai.com/v1/chat/completions \"HTTP/1.1 200 OK\"\n"
     ]
    },
    {
     "name": "stdout",
     "output_type": "stream",
     "text": [
      "Procesando registro 65/57: Dynamic Prediction of Performance Degradation Char...\n"
     ]
    },
    {
     "name": "stderr",
     "output_type": "stream",
     "text": [
      "2025-08-11 09:21:24,655 - _client - HTTP Request: POST https://api.openai.com/v1/chat/completions \"HTTP/1.1 200 OK\"\n"
     ]
    },
    {
     "name": "stdout",
     "output_type": "stream",
     "text": [
      "Procesando registro 4/57: Enhanced classification of hydraulic testing of di...\n"
     ]
    },
    {
     "name": "stderr",
     "output_type": "stream",
     "text": [
      "2025-08-11 09:21:27,663 - _client - HTTP Request: POST https://api.openai.com/v1/chat/completions \"HTTP/1.1 200 OK\"\n"
     ]
    },
    {
     "name": "stdout",
     "output_type": "stream",
     "text": [
      "Procesando registro 59/57: Enhancing metal additive manufacturing training wi...\n"
     ]
    },
    {
     "name": "stderr",
     "output_type": "stream",
     "text": [
      "2025-08-11 09:21:31,956 - _client - HTTP Request: POST https://api.openai.com/v1/chat/completions \"HTTP/1.1 200 OK\"\n"
     ]
    },
    {
     "name": "stdout",
     "output_type": "stream",
     "text": [
      "Procesando registro 34/57: Event-driven enabled regression aided multi-loop c...\n"
     ]
    },
    {
     "name": "stderr",
     "output_type": "stream",
     "text": [
      "2025-08-11 09:21:36,482 - _client - HTTP Request: POST https://api.openai.com/v1/chat/completions \"HTTP/1.1 200 OK\"\n"
     ]
    },
    {
     "name": "stdout",
     "output_type": "stream",
     "text": [
      "Procesando registro 46/57: Experimental analysis of the performance of the ai...\n"
     ]
    },
    {
     "name": "stderr",
     "output_type": "stream",
     "text": [
      "2025-08-11 09:21:39,952 - _client - HTTP Request: POST https://api.openai.com/v1/chat/completions \"HTTP/1.1 200 OK\"\n"
     ]
    },
    {
     "name": "stdout",
     "output_type": "stream",
     "text": [
      "Procesando registro 74/57: Explainable attention-based fused convolutional ne...\n"
     ]
    },
    {
     "name": "stderr",
     "output_type": "stream",
     "text": [
      "2025-08-11 09:21:43,946 - _client - HTTP Request: POST https://api.openai.com/v1/chat/completions \"HTTP/1.1 200 OK\"\n"
     ]
    },
    {
     "name": "stdout",
     "output_type": "stream",
     "text": [
      "Procesando registro 23/57: Exploring the Application of Large Language Models...\n"
     ]
    },
    {
     "name": "stderr",
     "output_type": "stream",
     "text": [
      "2025-08-11 09:21:47,533 - _client - HTTP Request: POST https://api.openai.com/v1/chat/completions \"HTTP/1.1 200 OK\"\n"
     ]
    },
    {
     "name": "stdout",
     "output_type": "stream",
     "text": [
      "Procesando registro 5/57: Fault Detection of Flow Control Valves Using Onlin...\n"
     ]
    },
    {
     "name": "stderr",
     "output_type": "stream",
     "text": [
      "2025-08-11 09:21:50,875 - _client - HTTP Request: POST https://api.openai.com/v1/chat/completions \"HTTP/1.1 200 OK\"\n"
     ]
    },
    {
     "name": "stdout",
     "output_type": "stream",
     "text": [
      "Procesando registro 22/57: Implementation of ANN-Based Auto-Adjustable for a ...\n"
     ]
    },
    {
     "name": "stderr",
     "output_type": "stream",
     "text": [
      "2025-08-11 09:21:54,495 - _client - HTTP Request: POST https://api.openai.com/v1/chat/completions \"HTTP/1.1 200 OK\"\n"
     ]
    },
    {
     "name": "stdout",
     "output_type": "stream",
     "text": [
      "Procesando registro 6/57: Implementing and evaluating the quality 4.0 PMQ fr...\n"
     ]
    },
    {
     "name": "stderr",
     "output_type": "stream",
     "text": [
      "2025-08-11 09:21:57,256 - _client - HTTP Request: POST https://api.openai.com/v1/chat/completions \"HTTP/1.1 200 OK\"\n"
     ]
    },
    {
     "name": "stdout",
     "output_type": "stream",
     "text": [
      "Procesando registro 31/57: Industrial Implementation of State Dependent Param...\n"
     ]
    },
    {
     "name": "stderr",
     "output_type": "stream",
     "text": [
      "2025-08-11 09:22:00,196 - _client - HTTP Request: POST https://api.openai.com/v1/chat/completions \"HTTP/1.1 200 OK\"\n"
     ]
    },
    {
     "name": "stdout",
     "output_type": "stream",
     "text": [
      "Procesando registro 9/57: Intelligent Control Valve Stiction Diagnosis Appro...\n"
     ]
    },
    {
     "name": "stderr",
     "output_type": "stream",
     "text": [
      "2025-08-11 09:22:03,014 - _client - HTTP Request: POST https://api.openai.com/v1/chat/completions \"HTTP/1.1 200 OK\"\n"
     ]
    },
    {
     "name": "stdout",
     "output_type": "stream",
     "text": [
      "Procesando registro 45/57: Internal Model Control for Onboard Methanol-Reform...\n"
     ]
    },
    {
     "name": "stderr",
     "output_type": "stream",
     "text": [
      "2025-08-11 09:22:05,491 - _client - HTTP Request: POST https://api.openai.com/v1/chat/completions \"HTTP/1.1 200 OK\"\n"
     ]
    },
    {
     "name": "stdout",
     "output_type": "stream",
     "text": [
      "Procesando registro 19/57: Modeling, optimization and control of a ceramic tu...\n"
     ]
    },
    {
     "name": "stderr",
     "output_type": "stream",
     "text": [
      "2025-08-11 09:22:08,081 - _client - HTTP Request: POST https://api.openai.com/v1/chat/completions \"HTTP/1.1 200 OK\"\n"
     ]
    },
    {
     "name": "stdout",
     "output_type": "stream",
     "text": [
      "Procesando registro 56/57: Neuro-Fuzzy System for Compensating Slow Disturban...\n"
     ]
    },
    {
     "name": "stderr",
     "output_type": "stream",
     "text": [
      "2025-08-11 09:22:11,512 - _client - HTTP Request: POST https://api.openai.com/v1/chat/completions \"HTTP/1.1 200 OK\"\n"
     ]
    },
    {
     "name": "stdout",
     "output_type": "stream",
     "text": [
      "Procesando registro 14/57: NEW MCA GENERATOR...\n"
     ]
    },
    {
     "name": "stderr",
     "output_type": "stream",
     "text": [
      "2025-08-11 09:22:14,236 - _client - HTTP Request: POST https://api.openai.com/v1/chat/completions \"HTTP/1.1 200 OK\"\n"
     ]
    },
    {
     "name": "stdout",
     "output_type": "stream",
     "text": [
      "Procesando registro 16/57: Nonlinear optimal control for robotic exoskeletons...\n"
     ]
    },
    {
     "name": "stderr",
     "output_type": "stream",
     "text": [
      "2025-08-11 09:22:17,065 - _client - HTTP Request: POST https://api.openai.com/v1/chat/completions \"HTTP/1.1 200 OK\"\n"
     ]
    },
    {
     "name": "stdout",
     "output_type": "stream",
     "text": [
      "Procesando registro 13/57: Parameters’ Optimization in Compressed Air Pressur...\n"
     ]
    },
    {
     "name": "stderr",
     "output_type": "stream",
     "text": [
      "2025-08-11 09:22:20,472 - _client - HTTP Request: POST https://api.openai.com/v1/chat/completions \"HTTP/1.1 200 OK\"\n"
     ]
    },
    {
     "name": "stdout",
     "output_type": "stream",
     "text": [
      "Procesando registro 38/57: Performance Comparison of Control Strategies for P...\n"
     ]
    },
    {
     "name": "stderr",
     "output_type": "stream",
     "text": [
      "2025-08-11 09:22:24,786 - _client - HTTP Request: POST https://api.openai.com/v1/chat/completions \"HTTP/1.1 200 OK\"\n"
     ]
    },
    {
     "name": "stdout",
     "output_type": "stream",
     "text": [
      "Procesando registro 60/57: Precise Burden Charging Operation During Iron-Maki...\n"
     ]
    },
    {
     "name": "stderr",
     "output_type": "stream",
     "text": [
      "2025-08-11 09:22:27,836 - _client - HTTP Request: POST https://api.openai.com/v1/chat/completions \"HTTP/1.1 200 OK\"\n"
     ]
    },
    {
     "name": "stdout",
     "output_type": "stream",
     "text": [
      "Procesando registro 43/57: Predictive control scheme by integrating event-tri...\n"
     ]
    },
    {
     "name": "stderr",
     "output_type": "stream",
     "text": [
      "2025-08-11 09:22:39,211 - _client - HTTP Request: POST https://api.openai.com/v1/chat/completions \"HTTP/1.1 200 OK\"\n"
     ]
    },
    {
     "name": "stdout",
     "output_type": "stream",
     "text": [
      "Procesando registro 69/57: Real-Time Pipe and Valve Characterisation and Mapp...\n"
     ]
    },
    {
     "name": "stderr",
     "output_type": "stream",
     "text": [
      "2025-08-11 09:22:41,775 - _client - HTTP Request: POST https://api.openai.com/v1/chat/completions \"HTTP/1.1 200 OK\"\n"
     ]
    },
    {
     "name": "stdout",
     "output_type": "stream",
     "text": [
      "Procesando registro 37/57: Reinforcement learning for control of valves...\n"
     ]
    },
    {
     "name": "stderr",
     "output_type": "stream",
     "text": [
      "2025-08-11 09:22:44,722 - _client - HTTP Request: POST https://api.openai.com/v1/chat/completions \"HTTP/1.1 200 OK\"\n"
     ]
    },
    {
     "name": "stdout",
     "output_type": "stream",
     "text": [
      "Procesando registro 41/57: Research of Pneumatic Polishing Force Control Syst...\n"
     ]
    },
    {
     "name": "stderr",
     "output_type": "stream",
     "text": [
      "2025-08-11 09:22:47,539 - _client - HTTP Request: POST https://api.openai.com/v1/chat/completions \"HTTP/1.1 200 OK\"\n"
     ]
    },
    {
     "name": "stdout",
     "output_type": "stream",
     "text": [
      "Procesando registro 55/57: Residual Life Prediction of Pneumatic Control Valv...\n"
     ]
    },
    {
     "name": "stderr",
     "output_type": "stream",
     "text": [
      "2025-08-11 09:22:50,245 - _client - HTTP Request: POST https://api.openai.com/v1/chat/completions \"HTTP/1.1 200 OK\"\n"
     ]
    },
    {
     "name": "stdout",
     "output_type": "stream",
     "text": [
      "Procesando registro 72/57: Revolutionizing Tire Quality Control: AI's Impact ...\n"
     ]
    },
    {
     "name": "stderr",
     "output_type": "stream",
     "text": [
      "2025-08-11 09:22:52,985 - _client - HTTP Request: POST https://api.openai.com/v1/chat/completions \"HTTP/1.1 200 OK\"\n"
     ]
    },
    {
     "name": "stdout",
     "output_type": "stream",
     "text": [
      "Procesando registro 70/57: Self-adapting anti-surge intelligence control and ...\n"
     ]
    },
    {
     "name": "stderr",
     "output_type": "stream",
     "text": [
      "2025-08-11 09:22:56,416 - _client - HTTP Request: POST https://api.openai.com/v1/chat/completions \"HTTP/1.1 200 OK\"\n"
     ]
    },
    {
     "name": "stdout",
     "output_type": "stream",
     "text": [
      "Procesando registro 18/57: Stiction compensation for low-cost electric valves...\n"
     ]
    },
    {
     "name": "stderr",
     "output_type": "stream",
     "text": [
      "2025-08-11 09:22:59,112 - _client - HTTP Request: POST https://api.openai.com/v1/chat/completions \"HTTP/1.1 200 OK\"\n"
     ]
    },
    {
     "name": "stdout",
     "output_type": "stream",
     "text": [
      "Procesando registro 10/57: Stiction detection and recurrence analysis for con...\n"
     ]
    },
    {
     "name": "stderr",
     "output_type": "stream",
     "text": [
      "2025-08-11 09:23:01,970 - _client - HTTP Request: POST https://api.openai.com/v1/chat/completions \"HTTP/1.1 200 OK\"\n"
     ]
    },
    {
     "name": "stdout",
     "output_type": "stream",
     "text": [
      "Procesando registro 12/57: Stiction-model-based re-tuning of PI controller fo...\n"
     ]
    },
    {
     "name": "stderr",
     "output_type": "stream",
     "text": [
      "2025-08-11 09:23:04,515 - _client - HTTP Request: POST https://api.openai.com/v1/chat/completions \"HTTP/1.1 200 OK\"\n"
     ]
    },
    {
     "name": "stdout",
     "output_type": "stream",
     "text": [
      "Procesando registro 27/57: Surge protection of centrifugal compressors using ...\n"
     ]
    },
    {
     "name": "stderr",
     "output_type": "stream",
     "text": [
      "2025-08-11 09:23:07,046 - _client - HTTP Request: POST https://api.openai.com/v1/chat/completions \"HTTP/1.1 200 OK\"\n"
     ]
    },
    {
     "name": "stdout",
     "output_type": "stream",
     "text": [
      "Procesando registro 73/57: Tire Bubble Defect Detection Using Incremental Lea...\n"
     ]
    },
    {
     "name": "stderr",
     "output_type": "stream",
     "text": [
      "2025-08-11 09:23:09,594 - _client - HTTP Request: POST https://api.openai.com/v1/chat/completions \"HTTP/1.1 200 OK\"\n"
     ]
    },
    {
     "name": "stdout",
     "output_type": "stream",
     "text": [
      "Procesando registro 62/57: Utilizing Selected Machine Learning Methods for Co...\n"
     ]
    },
    {
     "name": "stderr",
     "output_type": "stream",
     "text": [
      "2025-08-11 09:23:12,410 - _client - HTTP Request: POST https://api.openai.com/v1/chat/completions \"HTTP/1.1 200 OK\"\n"
     ]
    },
    {
     "name": "stdout",
     "output_type": "stream",
     "text": [
      "✅ Calificación completada!\n",
      "\n",
      "🔄 Ordenando por score general...\n",
      "\n",
      "💾 Guardando resultados completos...\n",
      "✅ Guardado: ../data/scored_results.csv\n",
      "\n",
      "📊 Resumen de calificaciones:\n",
      "  - Include: 0\n",
      "  - Maybe: 0\n",
      "  - Exclude: 57\n",
      "  - Score promedio: 1.9\n",
      "  - Score máximo: 10\n"
     ]
    },
    {
     "data": {
      "text/html": [
       "<div>\n",
       "<style scoped>\n",
       "    .dataframe tbody tr th:only-of-type {\n",
       "        vertical-align: middle;\n",
       "    }\n",
       "\n",
       "    .dataframe tbody tr th {\n",
       "        vertical-align: top;\n",
       "    }\n",
       "\n",
       "    .dataframe thead th {\n",
       "        text-align: right;\n",
       "    }\n",
       "</style>\n",
       "<table border=\"1\" class=\"dataframe\">\n",
       "  <thead>\n",
       "    <tr style=\"text-align: right;\">\n",
       "      <th></th>\n",
       "      <th>source</th>\n",
       "      <th>Title</th>\n",
       "      <th>Author Keywords</th>\n",
       "      <th>Source title</th>\n",
       "      <th>DOI</th>\n",
       "      <th>Abstract</th>\n",
       "      <th>Document Type</th>\n",
       "      <th>Publication Year</th>\n",
       "      <th>title_norm</th>\n",
       "      <th>_doi_norm</th>\n",
       "      <th>...</th>\n",
       "      <th>score_validation</th>\n",
       "      <th>score_industrial_similarity</th>\n",
       "      <th>score_peer_review</th>\n",
       "      <th>score_data_code</th>\n",
       "      <th>score_overall</th>\n",
       "      <th>ml_technique</th>\n",
       "      <th>control_task</th>\n",
       "      <th>domain</th>\n",
       "      <th>metrics</th>\n",
       "      <th>doi_confirmed</th>\n",
       "    </tr>\n",
       "  </thead>\n",
       "  <tbody>\n",
       "    <tr>\n",
       "      <th>32</th>\n",
       "      <td>scopus</td>\n",
       "      <td>Implementation of ANN-Based Auto-Adjustable fo...</td>\n",
       "      <td>control; embedded; FPGA; neural network; neuro...</td>\n",
       "      <td>Micromachines</td>\n",
       "      <td>10.3390/mi13060890</td>\n",
       "      <td>None</td>\n",
       "      <td>None</td>\n",
       "      <td>None</td>\n",
       "      <td>implementation of annbased autoadjustable for ...</td>\n",
       "      <td>10.3390/mi13060890</td>\n",
       "      <td>...</td>\n",
       "      <td>0</td>\n",
       "      <td>0</td>\n",
       "      <td>1</td>\n",
       "      <td>0</td>\n",
       "      <td>10</td>\n",
       "      <td>ANN/Neuro-PID</td>\n",
       "      <td>pneumatic actuator control</td>\n",
       "      <td>robotics</td>\n",
       "      <td>not specified</td>\n",
       "      <td>True</td>\n",
       "    </tr>\n",
       "    <tr>\n",
       "      <th>46</th>\n",
       "      <td>WoS</td>\n",
       "      <td>Reinforcement learning for control of valves</td>\n",
       "      <td>NaN</td>\n",
       "      <td>MACHINE LEARNING WITH APPLICATIONS</td>\n",
       "      <td>10.1016/j.mlwa.2021.100030</td>\n",
       "      <td>None</td>\n",
       "      <td>None</td>\n",
       "      <td>None</td>\n",
       "      <td>reinforcement learning for control of valves</td>\n",
       "      <td>10.1016/j.mlwa.2021.100030</td>\n",
       "      <td>...</td>\n",
       "      <td>0</td>\n",
       "      <td>0</td>\n",
       "      <td>1</td>\n",
       "      <td>0</td>\n",
       "      <td>10</td>\n",
       "      <td>Reinforcement Learning</td>\n",
       "      <td>Valve control</td>\n",
       "      <td>Industrial processes</td>\n",
       "      <td>Not specified</td>\n",
       "      <td>True</td>\n",
       "    </tr>\n",
       "    <tr>\n",
       "      <th>53</th>\n",
       "      <td>scopus</td>\n",
       "      <td>Stiction-model-based re-tuning of PI controlle...</td>\n",
       "      <td>control valves; Optimization; PID control; pro...</td>\n",
       "      <td>SICE Journal of Control, Measurement, and Syst...</td>\n",
       "      <td>10.1080/18824889.2023.2295063</td>\n",
       "      <td>None</td>\n",
       "      <td>None</td>\n",
       "      <td>None</td>\n",
       "      <td>stictionmodelbased retuning of pi controller f...</td>\n",
       "      <td>10.1080/18824889.2023.2295063</td>\n",
       "      <td>...</td>\n",
       "      <td>0</td>\n",
       "      <td>2</td>\n",
       "      <td>1</td>\n",
       "      <td>0</td>\n",
       "      <td>9</td>\n",
       "      <td></td>\n",
       "      <td>control loops</td>\n",
       "      <td>industrial process control</td>\n",
       "      <td>not specified</td>\n",
       "      <td>True</td>\n",
       "    </tr>\n",
       "    <tr>\n",
       "      <th>11</th>\n",
       "      <td>scopus</td>\n",
       "      <td>Automatic oscillations detection and classific...</td>\n",
       "      <td>control valve; machine learning; model free; O...</td>\n",
       "      <td>Transactions of the Institute of Measurement a...</td>\n",
       "      <td>10.1177/01423312221118129</td>\n",
       "      <td>None</td>\n",
       "      <td>None</td>\n",
       "      <td>None</td>\n",
       "      <td>automatic oscillations detection and classific...</td>\n",
       "      <td>10.1177/01423312221118129</td>\n",
       "      <td>...</td>\n",
       "      <td>0</td>\n",
       "      <td>0</td>\n",
       "      <td>1</td>\n",
       "      <td>0</td>\n",
       "      <td>7</td>\n",
       "      <td>generalized machine learning algorithms</td>\n",
       "      <td>oscillation detection</td>\n",
       "      <td>control systems</td>\n",
       "      <td>not specified</td>\n",
       "      <td>True</td>\n",
       "    </tr>\n",
       "    <tr>\n",
       "      <th>16</th>\n",
       "      <td>scopus</td>\n",
       "      <td>Control valve stiction detection using Markov ...</td>\n",
       "      <td>convolutional neural network; machine learning...</td>\n",
       "      <td>Canadian Journal of Chemical Engineering</td>\n",
       "      <td>10.1002/cjce.25054</td>\n",
       "      <td>None</td>\n",
       "      <td>None</td>\n",
       "      <td>None</td>\n",
       "      <td>control valve stiction detection using markov ...</td>\n",
       "      <td>10.1002/cjce.25054</td>\n",
       "      <td>...</td>\n",
       "      <td>0</td>\n",
       "      <td>0</td>\n",
       "      <td>1</td>\n",
       "      <td>0</td>\n",
       "      <td>7</td>\n",
       "      <td>Deep Convolutional Neural Network</td>\n",
       "      <td>Stiction detection</td>\n",
       "      <td>Other</td>\n",
       "      <td>Not applicable</td>\n",
       "      <td>True</td>\n",
       "    </tr>\n",
       "  </tbody>\n",
       "</table>\n",
       "<p>5 rows × 25 columns</p>\n",
       "</div>"
      ],
      "text/plain": [
       "    source                                              Title  \\\n",
       "32  scopus  Implementation of ANN-Based Auto-Adjustable fo...   \n",
       "46     WoS       Reinforcement learning for control of valves   \n",
       "53  scopus  Stiction-model-based re-tuning of PI controlle...   \n",
       "11  scopus  Automatic oscillations detection and classific...   \n",
       "16  scopus  Control valve stiction detection using Markov ...   \n",
       "\n",
       "                                      Author Keywords  \\\n",
       "32  control; embedded; FPGA; neural network; neuro...   \n",
       "46                                                NaN   \n",
       "53  control valves; Optimization; PID control; pro...   \n",
       "11  control valve; machine learning; model free; O...   \n",
       "16  convolutional neural network; machine learning...   \n",
       "\n",
       "                                         Source title  \\\n",
       "32                                      Micromachines   \n",
       "46                 MACHINE LEARNING WITH APPLICATIONS   \n",
       "53  SICE Journal of Control, Measurement, and Syst...   \n",
       "11  Transactions of the Institute of Measurement a...   \n",
       "16           Canadian Journal of Chemical Engineering   \n",
       "\n",
       "                              DOI Abstract Document Type Publication Year  \\\n",
       "32             10.3390/mi13060890     None          None             None   \n",
       "46     10.1016/j.mlwa.2021.100030     None          None             None   \n",
       "53  10.1080/18824889.2023.2295063     None          None             None   \n",
       "11      10.1177/01423312221118129     None          None             None   \n",
       "16             10.1002/cjce.25054     None          None             None   \n",
       "\n",
       "                                           title_norm  \\\n",
       "32  implementation of annbased autoadjustable for ...   \n",
       "46       reinforcement learning for control of valves   \n",
       "53  stictionmodelbased retuning of pi controller f...   \n",
       "11  automatic oscillations detection and classific...   \n",
       "16  control valve stiction detection using markov ...   \n",
       "\n",
       "                        _doi_norm  ... score_validation  \\\n",
       "32             10.3390/mi13060890  ...                0   \n",
       "46     10.1016/j.mlwa.2021.100030  ...                0   \n",
       "53  10.1080/18824889.2023.2295063  ...                0   \n",
       "11      10.1177/01423312221118129  ...                0   \n",
       "16             10.1002/cjce.25054  ...                0   \n",
       "\n",
       "   score_industrial_similarity  score_peer_review  score_data_code  \\\n",
       "32                           0                  1                0   \n",
       "46                           0                  1                0   \n",
       "53                           2                  1                0   \n",
       "11                           0                  1                0   \n",
       "16                           0                  1                0   \n",
       "\n",
       "    score_overall                             ml_technique  \\\n",
       "32             10                            ANN/Neuro-PID   \n",
       "46             10                   Reinforcement Learning   \n",
       "53              9                                            \n",
       "11              7  generalized machine learning algorithms   \n",
       "16              7        Deep Convolutional Neural Network   \n",
       "\n",
       "                  control_task                      domain         metrics  \\\n",
       "32  pneumatic actuator control                    robotics   not specified   \n",
       "46               Valve control        Industrial processes   Not specified   \n",
       "53               control loops  industrial process control   not specified   \n",
       "11       oscillation detection             control systems   not specified   \n",
       "16          Stiction detection                       Other  Not applicable   \n",
       "\n",
       "    doi_confirmed  \n",
       "32           True  \n",
       "46           True  \n",
       "53           True  \n",
       "11           True  \n",
       "16           True  \n",
       "\n",
       "[5 rows x 25 columns]"
      ]
     },
     "execution_count": 39,
     "metadata": {},
     "output_type": "execute_result"
    }
   ],
   "source": [
    "# Ejecutar: cargar → deduplicar → calificar (LLM) → guardar\n",
    "\n",
    "print(\"🔄 Cargando datos...\")\n",
    "df = pd.read_csv(INPUT_CSV)\n",
    "print(f\"📄 Filas cargadas: {len(df)}\")\n",
    "\n",
    "print(\"\\n🔄 Deduplicando registros...\")\n",
    "ddf = deduplicate(df)\n",
    "print(f\"📄 Tras deduplicar: {len(ddf)} registros únicos\")\n",
    "\n",
    "print(\"\\n🔄 Calificando con LLM...\")\n",
    "scored = score_with_llm(ddf, sleep_between_calls=0.8)\n",
    "\n",
    "print(\"\\n🔄 Ordenando por score general...\")\n",
    "scored = scored.sort_values(by=\"score_overall\", ascending=False)\n",
    "\n",
    "print(f\"\\n💾 Guardando resultados completos...\")\n",
    "scored.to_csv(OUT_CSV, index=False)\n",
    "print(f\"✅ Guardado: {OUT_CSV}\")\n",
    "\n",
    "# Mostrar resumen de resultados\n",
    "print(f\"\\n📊 Resumen de calificaciones:\")\n",
    "print(f\"  - Include: {len(scored[scored['llm_decision'] == 'Include'])}\")\n",
    "print(f\"  - Maybe: {len(scored[scored['llm_decision'] == 'Maybe'])}\")\n",
    "print(f\"  - Exclude: {len(scored[scored['llm_decision'] == 'Exclude'])}\")\n",
    "print(f\"  - Score promedio: {scored['score_overall'].mean():.1f}\")\n",
    "print(f\"  - Score máximo: {scored['score_overall'].max()}\")\n",
    "\n",
    "scored.head()"
   ]
  },
  {
   "cell_type": "markdown",
   "id": "36b9cd16",
   "metadata": {},
   "source": [
    "## 9) Filtrado al Top-10 (prioriza vs PID, validación y puntaje total)"
   ]
  },
  {
   "cell_type": "code",
   "execution_count": 40,
   "id": "fd6f5472",
   "metadata": {},
   "outputs": [
    {
     "name": "stdout",
     "output_type": "stream",
     "text": [
      "Guardado:\n",
      "- ../data/scored_results.csv\n",
      "- ../data/scored_results.xlsx\n"
     ]
    }
   ],
   "source": [
    "with pd.ExcelWriter(OUT_XLSX, engine=\"xlsxwriter\") as w:\n",
    "    scored.to_excel(w, sheet_name=\"All_Scored\", index=False)\n",
    "\n",
    "print(\"Guardado:\")\n",
    "print(\"-\", OUT_CSV)\n",
    "print(\"-\", OUT_XLSX)"
   ]
  },
  {
   "cell_type": "code",
   "execution_count": 41,
   "id": "eb5ea8e4",
   "metadata": {},
   "outputs": [
    {
     "name": "stdout",
     "output_type": "stream",
     "text": [
      "🔄 Generando Top-10...\n",
      "⚠️  No se encontraron registros que cumplan los criterios. Mostrando top 10 por score general.\n",
      "✅ Top-10 seleccionado de 57 candidatos relevantes.\n",
      "💾 Top-10 guardado: Top10.xlsx y Top10.csv\n",
      "\n",
      "🏆 TOP-10 MÁS RELEVANTES:\n",
      "                                                Title                                   DOI  score_overall llm_decision                                                                                                                    llm_reason\n",
      "Stiction-model-based re-tuning of PI controller fo...         10.1080/18824889.2023.2295063              9      Exclude                                                                                Focuses on PID control without ML intervention\n",
      "Comparative Analysis of PID and Robust IMC Control...           10.1109/ACCESS.2024.3467922              5      Exclude                                     Focuses on PID and IMC control without ML techniques or relevant industrial applications.\n",
      "Parameters’ Optimization in Compressed Air Pressur...         10.1080/03772063.2022.2139297              5      Exclude                  The study focuses on PID and optimization techniques without ML interventions relevant to the PICO question.\n",
      "Advanced Study: Improving the Quality of Cooling W...                  10.3390/math12203296              3      Exclude               The study focuses on fuzzy PID control for cooling water towers, not on ML-based control or valve applications.\n",
      "Development of rotary straw burying and returning ... 10.11975/j.issn.1002-6819.2021.05.004              3      Exclude The record focuses on agricultural machinery and a PID controller, not on ML-based control for industrial valve applications.\n",
      "Implementation of ANN-Based Auto-Adjustable for a ...                    10.3390/mi13060890             10      Exclude                                                              Does not focus on industrial valve control or relevant outcomes.\n",
      "      Reinforcement learning for control of valves...            10.1016/j.mlwa.2021.100030             10      Exclude                                                     Lacks sufficient detail in the abstract to assess relevance and outcomes.\n",
      "Automatic oscillations detection and classificatio...             10.1177/01423312221118129              7      Exclude                                Does not focus on valve control performance metrics or direct comparison with PID controllers.\n",
      "Control valve stiction detection using Markov tran...                    10.1002/cjce.25054              7      Exclude                        Does not focus on valve control performance metrics or ML interventions relevant to the PICO question.\n",
      "Enhanced classification of hydraulic testing of di...            10.1007/s11740-023-01204-8              4      Exclude                              The record does not focus on valve control or performance metrics relevant to the PICO question.\n"
     ]
    }
   ],
   "source": [
    "# Generar Top-10 filtrado y optimizado\n",
    "print(\"🔄 Generando Top-10...\")\n",
    "top10 = shortlist_top10(scored)\n",
    "\n",
    "# Guardar Top-10\n",
    "top10.to_excel(\"../notebooks/Top10.xlsx\", index=False)\n",
    "top10.to_csv(\"../notebooks/Top10.csv\", index=False)\n",
    "print(f\"💾 Top-10 guardado: Top10.xlsx y Top10.csv\")\n",
    "\n",
    "# Mostrar resumen del Top-10\n",
    "print(f\"\\n🏆 TOP-10 MÁS RELEVANTES:\")\n",
    "display_cols = [\"Title\", \"DOI\", \"score_overall\", \"llm_decision\", \"llm_reason\"]\n",
    "top10_display = top10[display_cols].copy()\n",
    "top10_display[\"Title\"] = top10_display[\"Title\"].str[:50] + \"...\"  # Truncar títulos largos\n",
    "\n",
    "print(top10_display.to_string(index=False))"
   ]
  },
  {
   "cell_type": "markdown",
   "id": "13dd61a9",
   "metadata": {},
   "source": [
    "\n",
    "## 10) Siguientes pasos\n",
    "- Revisa `Top10.xlsx` y el `sheet All_Scored` para ajustar criterios o PICO.\n",
    "- Si deseas un **núcleo más estricto** (solo control de válvula con comparación vs PID), filtra por:\n",
    "  - `Title` contenga *\"valv\"* y *\"control\"* y *\"PID\"*\n",
    "  - `score_vs_pid >= 1` y `score_relevance_valve >= 2`\n",
    "- Puedes cambiar el **PROMPT_TEMPLATE** o los **pesos** y re-ejecutar.\n",
    "- Exporta los incluidos a **Zotero** (CSV/BetterBibTeX) y a **Rayyan** para PRISMA.\n"
   ]
  }
 ],
 "metadata": {
  "kernelspec": {
   "display_name": ".venv (3.11.9)",
   "language": "python",
   "name": "python3"
  },
  "language_info": {
   "codemirror_mode": {
    "name": "ipython",
    "version": 3
   },
   "file_extension": ".py",
   "mimetype": "text/x-python",
   "name": "python",
   "nbconvert_exporter": "python",
   "pygments_lexer": "ipython3",
   "version": "3.11.9"
  }
 },
 "nbformat": 4,
 "nbformat_minor": 5
}
